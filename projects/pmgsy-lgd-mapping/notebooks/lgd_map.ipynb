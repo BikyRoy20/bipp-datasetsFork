{
 "cells": [
  {
   "cell_type": "code",
   "execution_count": 2,
   "metadata": {},
   "outputs": [
    {
     "name": "stderr",
     "output_type": "stream",
     "text": [
      "C:\\Users\\gohal\\Desktop\\Coding\\bipp-datasets\\.venv\\lib\\site-packages\\fuzzywuzzy\\fuzz.py:11: UserWarning: Using slow pure-python SequenceMatcher. Install python-Levenshtein to remove this warning\n",
      "  warnings.warn('Using slow pure-python SequenceMatcher. Install python-Levenshtein to remove this warning')\n"
     ]
    }
   ],
   "source": [
    "from pathlib import Path\n",
    "import pandas as pd\n",
    "from fuzzywuzzy import process"
   ]
  },
  {
   "cell_type": "code",
   "execution_count": 4,
   "metadata": {},
   "outputs": [],
   "source": [
    "dir_path = Path.cwd()\n",
    "raw_data_path = Path.joinpath(dir_path, \"data\", \"raw\")\n",
    "interim_data_path = Path.joinpath(dir_path, \"data\", \"interim\")\n",
    "processed_data_path = Path.joinpath(dir_path, \"data\", \"processed\")\n",
    "ext_data_path = Path.joinpath(dir_path, \"data\", \"external\")"
   ]
  },
  {
   "cell_type": "code",
   "execution_count": 64,
   "metadata": {},
   "outputs": [],
   "source": [
    "lgd = pd.read_csv(Path.joinpath(ext_data_path, \"lgd_block.csv\"))"
   ]
  },
  {
   "cell_type": "code",
   "execution_count": 65,
   "metadata": {},
   "outputs": [],
   "source": [
    "lgd.drop([\"St_Cs2011_code\"], axis=1, inplace=True)"
   ]
  },
  {
   "cell_type": "code",
   "execution_count": 66,
   "metadata": {},
   "outputs": [],
   "source": [
    "lgd = lgd.rename(\n",
    "    columns={\n",
    "        \"State Name(In English)\": \"state\",\n",
    "        \"District Name(In English)\": \"district\",\n",
    "        \"Block Name (In English) \": \"block\"\n",
    "    }\n",
    ")"
   ]
  },
  {
   "cell_type": "code",
   "execution_count": 67,
   "metadata": {},
   "outputs": [
    {
     "name": "stderr",
     "output_type": "stream",
     "text": [
      "C:\\Users\\gohal\\Desktop\\Coding\\bipp-datasets\\.venv\\lib\\site-packages\\ipykernel_launcher.py:3: SettingWithCopyWarning: \n",
      "A value is trying to be set on a copy of a slice from a DataFrame\n",
      "\n",
      "See the caveats in the documentation: https://pandas.pydata.org/pandas-docs/stable/user_guide/indexing.html#returning-a-view-versus-a-copy\n",
      "  This is separate from the ipykernel package so we can avoid doing imports until\n"
     ]
    }
   ],
   "source": [
    "lgd['state_dist_bk'] = \"\"\n",
    "for i in range(0, 7216):\n",
    "    lgd[\"state_dist_bk\"][i] = lgd[\"state\"][i].rstrip() + lgd[\"district\"][i].rstrip() + lgd[\"block\"][i]"
   ]
  },
  {
   "cell_type": "code",
   "execution_count": 68,
   "metadata": {},
   "outputs": [
    {
     "name": "stderr",
     "output_type": "stream",
     "text": [
      "C:\\Users\\gohal\\Desktop\\Coding\\bipp-datasets\\.venv\\lib\\site-packages\\ipykernel_launcher.py:3: SettingWithCopyWarning: \n",
      "A value is trying to be set on a copy of a slice from a DataFrame\n",
      "\n",
      "See the caveats in the documentation: https://pandas.pydata.org/pandas-docs/stable/user_guide/indexing.html#returning-a-view-versus-a-copy\n",
      "  This is separate from the ipykernel package so we can avoid doing imports until\n"
     ]
    }
   ],
   "source": [
    "lgd['state_dist']=\"\"\n",
    "for i in range(0, 7216):\n",
    "    lgd[\"state_dist\"][i] = lgd[\"state\"][i].rstrip() + lgd[\"district\"][i].rstrip()"
   ]
  },
  {
   "cell_type": "code",
   "execution_count": 69,
   "metadata": {},
   "outputs": [
    {
     "data": {
      "text/html": [
       "<div>\n",
       "<style scoped>\n",
       "    .dataframe tbody tr th:only-of-type {\n",
       "        vertical-align: middle;\n",
       "    }\n",
       "\n",
       "    .dataframe tbody tr th {\n",
       "        vertical-align: top;\n",
       "    }\n",
       "\n",
       "    .dataframe thead th {\n",
       "        text-align: right;\n",
       "    }\n",
       "</style>\n",
       "<table border=\"1\" class=\"dataframe\">\n",
       "  <thead>\n",
       "    <tr style=\"text-align: right;\">\n",
       "      <th></th>\n",
       "      <th>St_LGD_code</th>\n",
       "      <th>state</th>\n",
       "      <th>Dt_LGD_code</th>\n",
       "      <th>district</th>\n",
       "      <th>Bk_LGD_code</th>\n",
       "      <th>block</th>\n",
       "      <th>state_dist_bk</th>\n",
       "      <th>state_dist</th>\n",
       "    </tr>\n",
       "  </thead>\n",
       "  <tbody>\n",
       "    <tr>\n",
       "      <th>0</th>\n",
       "      <td>35</td>\n",
       "      <td>ANDAMAN AND NICOBAR ISLANDS</td>\n",
       "      <td>603</td>\n",
       "      <td>NICOBARS</td>\n",
       "      <td>6498</td>\n",
       "      <td>CAMPBELL BAY</td>\n",
       "      <td>ANDAMAN AND NICOBAR ISLANDSNICOBARSCAMPBELL BAY</td>\n",
       "      <td>ANDAMAN AND NICOBAR ISLANDSNICOBARS</td>\n",
       "    </tr>\n",
       "    <tr>\n",
       "      <th>1</th>\n",
       "      <td>35</td>\n",
       "      <td>ANDAMAN AND NICOBAR ISLANDS</td>\n",
       "      <td>603</td>\n",
       "      <td>NICOBARS</td>\n",
       "      <td>6499</td>\n",
       "      <td>CAR NICOBAR</td>\n",
       "      <td>ANDAMAN AND NICOBAR ISLANDSNICOBARSCAR NICOBAR</td>\n",
       "      <td>ANDAMAN AND NICOBAR ISLANDSNICOBARS</td>\n",
       "    </tr>\n",
       "    <tr>\n",
       "      <th>2</th>\n",
       "      <td>35</td>\n",
       "      <td>ANDAMAN AND NICOBAR ISLANDS</td>\n",
       "      <td>603</td>\n",
       "      <td>NICOBARS</td>\n",
       "      <td>6500</td>\n",
       "      <td>NANCOWRIE</td>\n",
       "      <td>ANDAMAN AND NICOBAR ISLANDSNICOBARSNANCOWRIE</td>\n",
       "      <td>ANDAMAN AND NICOBAR ISLANDSNICOBARS</td>\n",
       "    </tr>\n",
       "    <tr>\n",
       "      <th>3</th>\n",
       "      <td>35</td>\n",
       "      <td>ANDAMAN AND NICOBAR ISLANDS</td>\n",
       "      <td>632</td>\n",
       "      <td>NORTH AND MIDDLE ANDAMAN</td>\n",
       "      <td>6492</td>\n",
       "      <td>DIGLIPUR</td>\n",
       "      <td>ANDAMAN AND NICOBAR ISLANDSNORTH AND MIDDLE AN...</td>\n",
       "      <td>ANDAMAN AND NICOBAR ISLANDSNORTH AND MIDDLE AN...</td>\n",
       "    </tr>\n",
       "    <tr>\n",
       "      <th>4</th>\n",
       "      <td>35</td>\n",
       "      <td>ANDAMAN AND NICOBAR ISLANDS</td>\n",
       "      <td>632</td>\n",
       "      <td>NORTH AND MIDDLE ANDAMAN</td>\n",
       "      <td>6495</td>\n",
       "      <td>MAYABUNDER</td>\n",
       "      <td>ANDAMAN AND NICOBAR ISLANDSNORTH AND MIDDLE AN...</td>\n",
       "      <td>ANDAMAN AND NICOBAR ISLANDSNORTH AND MIDDLE AN...</td>\n",
       "    </tr>\n",
       "    <tr>\n",
       "      <th>...</th>\n",
       "      <td>...</td>\n",
       "      <td>...</td>\n",
       "      <td>...</td>\n",
       "      <td>...</td>\n",
       "      <td>...</td>\n",
       "      <td>...</td>\n",
       "      <td>...</td>\n",
       "      <td>...</td>\n",
       "    </tr>\n",
       "    <tr>\n",
       "      <th>7211</th>\n",
       "      <td>19</td>\n",
       "      <td>WEST BENGAL</td>\n",
       "      <td>321</td>\n",
       "      <td>PURULIA</td>\n",
       "      <td>3059</td>\n",
       "      <td>PURULIA-I</td>\n",
       "      <td>WEST BENGALPURULIAPURULIA-I</td>\n",
       "      <td>WEST BENGALPURULIA</td>\n",
       "    </tr>\n",
       "    <tr>\n",
       "      <th>7212</th>\n",
       "      <td>19</td>\n",
       "      <td>WEST BENGAL</td>\n",
       "      <td>321</td>\n",
       "      <td>PURULIA</td>\n",
       "      <td>3060</td>\n",
       "      <td>PURULIA-II</td>\n",
       "      <td>WEST BENGALPURULIAPURULIA-II</td>\n",
       "      <td>WEST BENGALPURULIA</td>\n",
       "    </tr>\n",
       "    <tr>\n",
       "      <th>7213</th>\n",
       "      <td>19</td>\n",
       "      <td>WEST BENGAL</td>\n",
       "      <td>321</td>\n",
       "      <td>PURULIA</td>\n",
       "      <td>3061</td>\n",
       "      <td>RAGHUNATH PUR-I</td>\n",
       "      <td>WEST BENGALPURULIARAGHUNATH PUR-I</td>\n",
       "      <td>WEST BENGALPURULIA</td>\n",
       "    </tr>\n",
       "    <tr>\n",
       "      <th>7214</th>\n",
       "      <td>19</td>\n",
       "      <td>WEST BENGAL</td>\n",
       "      <td>321</td>\n",
       "      <td>PURULIA</td>\n",
       "      <td>3062</td>\n",
       "      <td>RAGHUNATHPUR-II</td>\n",
       "      <td>WEST BENGALPURULIARAGHUNATHPUR-II</td>\n",
       "      <td>WEST BENGALPURULIA</td>\n",
       "    </tr>\n",
       "    <tr>\n",
       "      <th>7215</th>\n",
       "      <td>19</td>\n",
       "      <td>WEST BENGAL</td>\n",
       "      <td>321</td>\n",
       "      <td>PURULIA</td>\n",
       "      <td>3063</td>\n",
       "      <td>SANTURI</td>\n",
       "      <td>WEST BENGALPURULIASANTURI</td>\n",
       "      <td>WEST BENGALPURULIA</td>\n",
       "    </tr>\n",
       "  </tbody>\n",
       "</table>\n",
       "<p>7216 rows × 8 columns</p>\n",
       "</div>"
      ],
      "text/plain": [
       "      St_LGD_code                        state  Dt_LGD_code  \\\n",
       "0              35  ANDAMAN AND NICOBAR ISLANDS          603   \n",
       "1              35  ANDAMAN AND NICOBAR ISLANDS          603   \n",
       "2              35  ANDAMAN AND NICOBAR ISLANDS          603   \n",
       "3              35  ANDAMAN AND NICOBAR ISLANDS          632   \n",
       "4              35  ANDAMAN AND NICOBAR ISLANDS          632   \n",
       "...           ...                          ...          ...   \n",
       "7211           19                  WEST BENGAL          321   \n",
       "7212           19                  WEST BENGAL          321   \n",
       "7213           19                  WEST BENGAL          321   \n",
       "7214           19                  WEST BENGAL          321   \n",
       "7215           19                  WEST BENGAL          321   \n",
       "\n",
       "                      district  Bk_LGD_code            block  \\\n",
       "0                     NICOBARS         6498     CAMPBELL BAY   \n",
       "1                     NICOBARS         6499      CAR NICOBAR   \n",
       "2                     NICOBARS         6500        NANCOWRIE   \n",
       "3     NORTH AND MIDDLE ANDAMAN         6492         DIGLIPUR   \n",
       "4     NORTH AND MIDDLE ANDAMAN         6495       MAYABUNDER   \n",
       "...                        ...          ...              ...   \n",
       "7211                   PURULIA         3059        PURULIA-I   \n",
       "7212                   PURULIA         3060       PURULIA-II   \n",
       "7213                   PURULIA         3061  RAGHUNATH PUR-I   \n",
       "7214                   PURULIA         3062  RAGHUNATHPUR-II   \n",
       "7215                   PURULIA         3063          SANTURI   \n",
       "\n",
       "                                          state_dist_bk  \\\n",
       "0       ANDAMAN AND NICOBAR ISLANDSNICOBARSCAMPBELL BAY   \n",
       "1        ANDAMAN AND NICOBAR ISLANDSNICOBARSCAR NICOBAR   \n",
       "2          ANDAMAN AND NICOBAR ISLANDSNICOBARSNANCOWRIE   \n",
       "3     ANDAMAN AND NICOBAR ISLANDSNORTH AND MIDDLE AN...   \n",
       "4     ANDAMAN AND NICOBAR ISLANDSNORTH AND MIDDLE AN...   \n",
       "...                                                 ...   \n",
       "7211                        WEST BENGALPURULIAPURULIA-I   \n",
       "7212                       WEST BENGALPURULIAPURULIA-II   \n",
       "7213                  WEST BENGALPURULIARAGHUNATH PUR-I   \n",
       "7214                  WEST BENGALPURULIARAGHUNATHPUR-II   \n",
       "7215                          WEST BENGALPURULIASANTURI   \n",
       "\n",
       "                                             state_dist  \n",
       "0                   ANDAMAN AND NICOBAR ISLANDSNICOBARS  \n",
       "1                   ANDAMAN AND NICOBAR ISLANDSNICOBARS  \n",
       "2                   ANDAMAN AND NICOBAR ISLANDSNICOBARS  \n",
       "3     ANDAMAN AND NICOBAR ISLANDSNORTH AND MIDDLE AN...  \n",
       "4     ANDAMAN AND NICOBAR ISLANDSNORTH AND MIDDLE AN...  \n",
       "...                                                 ...  \n",
       "7211                                 WEST BENGALPURULIA  \n",
       "7212                                 WEST BENGALPURULIA  \n",
       "7213                                 WEST BENGALPURULIA  \n",
       "7214                                 WEST BENGALPURULIA  \n",
       "7215                                 WEST BENGALPURULIA  \n",
       "\n",
       "[7216 rows x 8 columns]"
      ]
     },
     "execution_count": 69,
     "metadata": {},
     "output_type": "execute_result"
    }
   ],
   "source": [
    "lgd"
   ]
  },
  {
   "cell_type": "code",
   "execution_count": 70,
   "metadata": {},
   "outputs": [],
   "source": [
    "df = pd.read_csv(Path.joinpath(interim_data_path, \"merged_data.csv\"))"
   ]
  },
  {
   "cell_type": "code",
   "execution_count": 71,
   "metadata": {},
   "outputs": [
    {
     "data": {
      "text/plain": [
       "(425266, 38)"
      ]
     },
     "execution_count": 71,
     "metadata": {},
     "output_type": "execute_result"
    }
   ],
   "source": [
    "df.shape"
   ]
  },
  {
   "cell_type": "code",
   "execution_count": 72,
   "metadata": {},
   "outputs": [],
   "source": [
    "df = df.rename(\n",
    "    columns={\n",
    "        \"state_name\": \"state\",\n",
    "        \"district_name\": \"district\",\n",
    "        \"block_name\": \"block\"\n",
    "    }\n",
    ")"
   ]
  },
  {
   "cell_type": "code",
   "execution_count": 73,
   "metadata": {},
   "outputs": [],
   "source": [
    "df[\"state\"] = df[\"state\"].str.upper()\n",
    "df[\"district\"] = df[\"district\"].str.upper()\n",
    "df[\"block\"] = df[\"block\"].str.upper()"
   ]
  },
  {
   "cell_type": "code",
   "execution_count": 74,
   "metadata": {},
   "outputs": [
    {
     "name": "stderr",
     "output_type": "stream",
     "text": [
      "C:\\Users\\gohal\\Desktop\\Coding\\bipp-datasets\\.venv\\lib\\site-packages\\ipykernel_launcher.py:2: SettingWithCopyWarning: \n",
      "A value is trying to be set on a copy of a slice from a DataFrame\n",
      "\n",
      "See the caveats in the documentation: https://pandas.pydata.org/pandas-docs/stable/user_guide/indexing.html#returning-a-view-versus-a-copy\n",
      "  \n",
      "C:\\Users\\gohal\\Desktop\\Coding\\bipp-datasets\\.venv\\lib\\site-packages\\ipykernel_launcher.py:76: SettingWithCopyWarning: \n",
      "A value is trying to be set on a copy of a slice from a DataFrame\n",
      "\n",
      "See the caveats in the documentation: https://pandas.pydata.org/pandas-docs/stable/user_guide/indexing.html#returning-a-view-versus-a-copy\n",
      "C:\\Users\\gohal\\Desktop\\Coding\\bipp-datasets\\.venv\\lib\\site-packages\\ipykernel_launcher.py:78: SettingWithCopyWarning: \n",
      "A value is trying to be set on a copy of a slice from a DataFrame\n",
      "\n",
      "See the caveats in the documentation: https://pandas.pydata.org/pandas-docs/stable/user_guide/indexing.html#returning-a-view-versus-a-copy\n",
      "C:\\Users\\gohal\\Desktop\\Coding\\bipp-datasets\\.venv\\lib\\site-packages\\ipykernel_launcher.py:118: SettingWithCopyWarning: \n",
      "A value is trying to be set on a copy of a slice from a DataFrame\n",
      "\n",
      "See the caveats in the documentation: https://pandas.pydata.org/pandas-docs/stable/user_guide/indexing.html#returning-a-view-versus-a-copy\n",
      "C:\\Users\\gohal\\Desktop\\Coding\\bipp-datasets\\.venv\\lib\\site-packages\\ipykernel_launcher.py:74: SettingWithCopyWarning: \n",
      "A value is trying to be set on a copy of a slice from a DataFrame\n",
      "\n",
      "See the caveats in the documentation: https://pandas.pydata.org/pandas-docs/stable/user_guide/indexing.html#returning-a-view-versus-a-copy\n",
      "C:\\Users\\gohal\\Desktop\\Coding\\bipp-datasets\\.venv\\lib\\site-packages\\ipykernel_launcher.py:80: SettingWithCopyWarning: \n",
      "A value is trying to be set on a copy of a slice from a DataFrame\n",
      "\n",
      "See the caveats in the documentation: https://pandas.pydata.org/pandas-docs/stable/user_guide/indexing.html#returning-a-view-versus-a-copy\n",
      "C:\\Users\\gohal\\Desktop\\Coding\\bipp-datasets\\.venv\\lib\\site-packages\\ipykernel_launcher.py:82: SettingWithCopyWarning: \n",
      "A value is trying to be set on a copy of a slice from a DataFrame\n",
      "\n",
      "See the caveats in the documentation: https://pandas.pydata.org/pandas-docs/stable/user_guide/indexing.html#returning-a-view-versus-a-copy\n",
      "C:\\Users\\gohal\\Desktop\\Coding\\bipp-datasets\\.venv\\lib\\site-packages\\ipykernel_launcher.py:16: SettingWithCopyWarning: \n",
      "A value is trying to be set on a copy of a slice from a DataFrame\n",
      "\n",
      "See the caveats in the documentation: https://pandas.pydata.org/pandas-docs/stable/user_guide/indexing.html#returning-a-view-versus-a-copy\n",
      "  app.launch_new_instance()\n",
      "C:\\Users\\gohal\\Desktop\\Coding\\bipp-datasets\\.venv\\lib\\site-packages\\ipykernel_launcher.py:84: SettingWithCopyWarning: \n",
      "A value is trying to be set on a copy of a slice from a DataFrame\n",
      "\n",
      "See the caveats in the documentation: https://pandas.pydata.org/pandas-docs/stable/user_guide/indexing.html#returning-a-view-versus-a-copy\n",
      "C:\\Users\\gohal\\Desktop\\Coding\\bipp-datasets\\.venv\\lib\\site-packages\\ipykernel_launcher.py:28: SettingWithCopyWarning: \n",
      "A value is trying to be set on a copy of a slice from a DataFrame\n",
      "\n",
      "See the caveats in the documentation: https://pandas.pydata.org/pandas-docs/stable/user_guide/indexing.html#returning-a-view-versus-a-copy\n",
      "C:\\Users\\gohal\\Desktop\\Coding\\bipp-datasets\\.venv\\lib\\site-packages\\ipykernel_launcher.py:26: SettingWithCopyWarning: \n",
      "A value is trying to be set on a copy of a slice from a DataFrame\n",
      "\n",
      "See the caveats in the documentation: https://pandas.pydata.org/pandas-docs/stable/user_guide/indexing.html#returning-a-view-versus-a-copy\n",
      "C:\\Users\\gohal\\Desktop\\Coding\\bipp-datasets\\.venv\\lib\\site-packages\\ipykernel_launcher.py:30: SettingWithCopyWarning: \n",
      "A value is trying to be set on a copy of a slice from a DataFrame\n",
      "\n",
      "See the caveats in the documentation: https://pandas.pydata.org/pandas-docs/stable/user_guide/indexing.html#returning-a-view-versus-a-copy\n",
      "C:\\Users\\gohal\\Desktop\\Coding\\bipp-datasets\\.venv\\lib\\site-packages\\ipykernel_launcher.py:4: SettingWithCopyWarning: \n",
      "A value is trying to be set on a copy of a slice from a DataFrame\n",
      "\n",
      "See the caveats in the documentation: https://pandas.pydata.org/pandas-docs/stable/user_guide/indexing.html#returning-a-view-versus-a-copy\n",
      "  after removing the cwd from sys.path.\n",
      "C:\\Users\\gohal\\Desktop\\Coding\\bipp-datasets\\.venv\\lib\\site-packages\\ipykernel_launcher.py:86: SettingWithCopyWarning: \n",
      "A value is trying to be set on a copy of a slice from a DataFrame\n",
      "\n",
      "See the caveats in the documentation: https://pandas.pydata.org/pandas-docs/stable/user_guide/indexing.html#returning-a-view-versus-a-copy\n",
      "C:\\Users\\gohal\\Desktop\\Coding\\bipp-datasets\\.venv\\lib\\site-packages\\ipykernel_launcher.py:32: SettingWithCopyWarning: \n",
      "A value is trying to be set on a copy of a slice from a DataFrame\n",
      "\n",
      "See the caveats in the documentation: https://pandas.pydata.org/pandas-docs/stable/user_guide/indexing.html#returning-a-view-versus-a-copy\n",
      "C:\\Users\\gohal\\Desktop\\Coding\\bipp-datasets\\.venv\\lib\\site-packages\\ipykernel_launcher.py:68: SettingWithCopyWarning: \n",
      "A value is trying to be set on a copy of a slice from a DataFrame\n",
      "\n",
      "See the caveats in the documentation: https://pandas.pydata.org/pandas-docs/stable/user_guide/indexing.html#returning-a-view-versus-a-copy\n",
      "C:\\Users\\gohal\\Desktop\\Coding\\bipp-datasets\\.venv\\lib\\site-packages\\ipykernel_launcher.py:88: SettingWithCopyWarning: \n",
      "A value is trying to be set on a copy of a slice from a DataFrame\n",
      "\n",
      "See the caveats in the documentation: https://pandas.pydata.org/pandas-docs/stable/user_guide/indexing.html#returning-a-view-versus-a-copy\n",
      "C:\\Users\\gohal\\Desktop\\Coding\\bipp-datasets\\.venv\\lib\\site-packages\\ipykernel_launcher.py:90: SettingWithCopyWarning: \n",
      "A value is trying to be set on a copy of a slice from a DataFrame\n",
      "\n",
      "See the caveats in the documentation: https://pandas.pydata.org/pandas-docs/stable/user_guide/indexing.html#returning-a-view-versus-a-copy\n",
      "C:\\Users\\gohal\\Desktop\\Coding\\bipp-datasets\\.venv\\lib\\site-packages\\ipykernel_launcher.py:92: SettingWithCopyWarning: \n",
      "A value is trying to be set on a copy of a slice from a DataFrame\n",
      "\n",
      "See the caveats in the documentation: https://pandas.pydata.org/pandas-docs/stable/user_guide/indexing.html#returning-a-view-versus-a-copy\n",
      "C:\\Users\\gohal\\Desktop\\Coding\\bipp-datasets\\.venv\\lib\\site-packages\\ipykernel_launcher.py:94: SettingWithCopyWarning: \n",
      "A value is trying to be set on a copy of a slice from a DataFrame\n",
      "\n",
      "See the caveats in the documentation: https://pandas.pydata.org/pandas-docs/stable/user_guide/indexing.html#returning-a-view-versus-a-copy\n",
      "C:\\Users\\gohal\\Desktop\\Coding\\bipp-datasets\\.venv\\lib\\site-packages\\ipykernel_launcher.py:96: SettingWithCopyWarning: \n",
      "A value is trying to be set on a copy of a slice from a DataFrame\n",
      "\n",
      "See the caveats in the documentation: https://pandas.pydata.org/pandas-docs/stable/user_guide/indexing.html#returning-a-view-versus-a-copy\n",
      "C:\\Users\\gohal\\Desktop\\Coding\\bipp-datasets\\.venv\\lib\\site-packages\\ipykernel_launcher.py:98: SettingWithCopyWarning: \n",
      "A value is trying to be set on a copy of a slice from a DataFrame\n",
      "\n",
      "See the caveats in the documentation: https://pandas.pydata.org/pandas-docs/stable/user_guide/indexing.html#returning-a-view-versus-a-copy\n",
      "C:\\Users\\gohal\\Desktop\\Coding\\bipp-datasets\\.venv\\lib\\site-packages\\ipykernel_launcher.py:120: SettingWithCopyWarning: \n",
      "A value is trying to be set on a copy of a slice from a DataFrame\n",
      "\n",
      "See the caveats in the documentation: https://pandas.pydata.org/pandas-docs/stable/user_guide/indexing.html#returning-a-view-versus-a-copy\n",
      "C:\\Users\\gohal\\Desktop\\Coding\\bipp-datasets\\.venv\\lib\\site-packages\\ipykernel_launcher.py:122: SettingWithCopyWarning: \n",
      "A value is trying to be set on a copy of a slice from a DataFrame\n",
      "\n",
      "See the caveats in the documentation: https://pandas.pydata.org/pandas-docs/stable/user_guide/indexing.html#returning-a-view-versus-a-copy\n",
      "C:\\Users\\gohal\\Desktop\\Coding\\bipp-datasets\\.venv\\lib\\site-packages\\ipykernel_launcher.py:38: SettingWithCopyWarning: \n",
      "A value is trying to be set on a copy of a slice from a DataFrame\n",
      "\n",
      "See the caveats in the documentation: https://pandas.pydata.org/pandas-docs/stable/user_guide/indexing.html#returning-a-view-versus-a-copy\n",
      "C:\\Users\\gohal\\Desktop\\Coding\\bipp-datasets\\.venv\\lib\\site-packages\\ipykernel_launcher.py:100: SettingWithCopyWarning: \n",
      "A value is trying to be set on a copy of a slice from a DataFrame\n",
      "\n",
      "See the caveats in the documentation: https://pandas.pydata.org/pandas-docs/stable/user_guide/indexing.html#returning-a-view-versus-a-copy\n",
      "C:\\Users\\gohal\\Desktop\\Coding\\bipp-datasets\\.venv\\lib\\site-packages\\ipykernel_launcher.py:124: SettingWithCopyWarning: \n",
      "A value is trying to be set on a copy of a slice from a DataFrame\n",
      "\n",
      "See the caveats in the documentation: https://pandas.pydata.org/pandas-docs/stable/user_guide/indexing.html#returning-a-view-versus-a-copy\n",
      "C:\\Users\\gohal\\Desktop\\Coding\\bipp-datasets\\.venv\\lib\\site-packages\\ipykernel_launcher.py:102: SettingWithCopyWarning: \n",
      "A value is trying to be set on a copy of a slice from a DataFrame\n",
      "\n",
      "See the caveats in the documentation: https://pandas.pydata.org/pandas-docs/stable/user_guide/indexing.html#returning-a-view-versus-a-copy\n",
      "C:\\Users\\gohal\\Desktop\\Coding\\bipp-datasets\\.venv\\lib\\site-packages\\ipykernel_launcher.py:126: SettingWithCopyWarning: \n",
      "A value is trying to be set on a copy of a slice from a DataFrame\n",
      "\n",
      "See the caveats in the documentation: https://pandas.pydata.org/pandas-docs/stable/user_guide/indexing.html#returning-a-view-versus-a-copy\n",
      "C:\\Users\\gohal\\Desktop\\Coding\\bipp-datasets\\.venv\\lib\\site-packages\\ipykernel_launcher.py:128: SettingWithCopyWarning: \n",
      "A value is trying to be set on a copy of a slice from a DataFrame\n",
      "\n",
      "See the caveats in the documentation: https://pandas.pydata.org/pandas-docs/stable/user_guide/indexing.html#returning-a-view-versus-a-copy\n",
      "C:\\Users\\gohal\\Desktop\\Coding\\bipp-datasets\\.venv\\lib\\site-packages\\ipykernel_launcher.py:130: SettingWithCopyWarning: \n",
      "A value is trying to be set on a copy of a slice from a DataFrame\n",
      "\n",
      "See the caveats in the documentation: https://pandas.pydata.org/pandas-docs/stable/user_guide/indexing.html#returning-a-view-versus-a-copy\n",
      "C:\\Users\\gohal\\Desktop\\Coding\\bipp-datasets\\.venv\\lib\\site-packages\\ipykernel_launcher.py:132: SettingWithCopyWarning: \n",
      "A value is trying to be set on a copy of a slice from a DataFrame\n",
      "\n",
      "See the caveats in the documentation: https://pandas.pydata.org/pandas-docs/stable/user_guide/indexing.html#returning-a-view-versus-a-copy\n",
      "C:\\Users\\gohal\\Desktop\\Coding\\bipp-datasets\\.venv\\lib\\site-packages\\ipykernel_launcher.py:134: SettingWithCopyWarning: \n",
      "A value is trying to be set on a copy of a slice from a DataFrame\n",
      "\n",
      "See the caveats in the documentation: https://pandas.pydata.org/pandas-docs/stable/user_guide/indexing.html#returning-a-view-versus-a-copy\n",
      "C:\\Users\\gohal\\Desktop\\Coding\\bipp-datasets\\.venv\\lib\\site-packages\\ipykernel_launcher.py:60: SettingWithCopyWarning: \n",
      "A value is trying to be set on a copy of a slice from a DataFrame\n",
      "\n",
      "See the caveats in the documentation: https://pandas.pydata.org/pandas-docs/stable/user_guide/indexing.html#returning-a-view-versus-a-copy\n",
      "C:\\Users\\gohal\\Desktop\\Coding\\bipp-datasets\\.venv\\lib\\site-packages\\ipykernel_launcher.py:6: SettingWithCopyWarning: \n",
      "A value is trying to be set on a copy of a slice from a DataFrame\n",
      "\n",
      "See the caveats in the documentation: https://pandas.pydata.org/pandas-docs/stable/user_guide/indexing.html#returning-a-view-versus-a-copy\n",
      "  \n",
      "C:\\Users\\gohal\\Desktop\\Coding\\bipp-datasets\\.venv\\lib\\site-packages\\ipykernel_launcher.py:136: SettingWithCopyWarning: \n",
      "A value is trying to be set on a copy of a slice from a DataFrame\n",
      "\n",
      "See the caveats in the documentation: https://pandas.pydata.org/pandas-docs/stable/user_guide/indexing.html#returning-a-view-versus-a-copy\n",
      "C:\\Users\\gohal\\Desktop\\Coding\\bipp-datasets\\.venv\\lib\\site-packages\\ipykernel_launcher.py:138: SettingWithCopyWarning: \n",
      "A value is trying to be set on a copy of a slice from a DataFrame\n",
      "\n",
      "See the caveats in the documentation: https://pandas.pydata.org/pandas-docs/stable/user_guide/indexing.html#returning-a-view-versus-a-copy\n",
      "C:\\Users\\gohal\\Desktop\\Coding\\bipp-datasets\\.venv\\lib\\site-packages\\ipykernel_launcher.py:140: SettingWithCopyWarning: \n",
      "A value is trying to be set on a copy of a slice from a DataFrame\n",
      "\n",
      "See the caveats in the documentation: https://pandas.pydata.org/pandas-docs/stable/user_guide/indexing.html#returning-a-view-versus-a-copy\n",
      "C:\\Users\\gohal\\Desktop\\Coding\\bipp-datasets\\.venv\\lib\\site-packages\\ipykernel_launcher.py:142: SettingWithCopyWarning: \n",
      "A value is trying to be set on a copy of a slice from a DataFrame\n",
      "\n",
      "See the caveats in the documentation: https://pandas.pydata.org/pandas-docs/stable/user_guide/indexing.html#returning-a-view-versus-a-copy\n",
      "C:\\Users\\gohal\\Desktop\\Coding\\bipp-datasets\\.venv\\lib\\site-packages\\ipykernel_launcher.py:144: SettingWithCopyWarning: \n",
      "A value is trying to be set on a copy of a slice from a DataFrame\n",
      "\n",
      "See the caveats in the documentation: https://pandas.pydata.org/pandas-docs/stable/user_guide/indexing.html#returning-a-view-versus-a-copy\n",
      "C:\\Users\\gohal\\Desktop\\Coding\\bipp-datasets\\.venv\\lib\\site-packages\\ipykernel_launcher.py:148: SettingWithCopyWarning: \n",
      "A value is trying to be set on a copy of a slice from a DataFrame\n",
      "\n",
      "See the caveats in the documentation: https://pandas.pydata.org/pandas-docs/stable/user_guide/indexing.html#returning-a-view-versus-a-copy\n",
      "C:\\Users\\gohal\\Desktop\\Coding\\bipp-datasets\\.venv\\lib\\site-packages\\ipykernel_launcher.py:150: SettingWithCopyWarning: \n",
      "A value is trying to be set on a copy of a slice from a DataFrame\n",
      "\n",
      "See the caveats in the documentation: https://pandas.pydata.org/pandas-docs/stable/user_guide/indexing.html#returning-a-view-versus-a-copy\n",
      "C:\\Users\\gohal\\Desktop\\Coding\\bipp-datasets\\.venv\\lib\\site-packages\\ipykernel_launcher.py:110: SettingWithCopyWarning: \n",
      "A value is trying to be set on a copy of a slice from a DataFrame\n",
      "\n",
      "See the caveats in the documentation: https://pandas.pydata.org/pandas-docs/stable/user_guide/indexing.html#returning-a-view-versus-a-copy\n",
      "C:\\Users\\gohal\\Desktop\\Coding\\bipp-datasets\\.venv\\lib\\site-packages\\ipykernel_launcher.py:106: SettingWithCopyWarning: \n",
      "A value is trying to be set on a copy of a slice from a DataFrame\n",
      "\n",
      "See the caveats in the documentation: https://pandas.pydata.org/pandas-docs/stable/user_guide/indexing.html#returning-a-view-versus-a-copy\n",
      "C:\\Users\\gohal\\Desktop\\Coding\\bipp-datasets\\.venv\\lib\\site-packages\\ipykernel_launcher.py:114: SettingWithCopyWarning: \n",
      "A value is trying to be set on a copy of a slice from a DataFrame\n",
      "\n",
      "See the caveats in the documentation: https://pandas.pydata.org/pandas-docs/stable/user_guide/indexing.html#returning-a-view-versus-a-copy\n",
      "C:\\Users\\gohal\\Desktop\\Coding\\bipp-datasets\\.venv\\lib\\site-packages\\ipykernel_launcher.py:116: SettingWithCopyWarning: \n",
      "A value is trying to be set on a copy of a slice from a DataFrame\n",
      "\n",
      "See the caveats in the documentation: https://pandas.pydata.org/pandas-docs/stable/user_guide/indexing.html#returning-a-view-versus-a-copy\n",
      "C:\\Users\\gohal\\Desktop\\Coding\\bipp-datasets\\.venv\\lib\\site-packages\\ipykernel_launcher.py:152: SettingWithCopyWarning: \n",
      "A value is trying to be set on a copy of a slice from a DataFrame\n",
      "\n",
      "See the caveats in the documentation: https://pandas.pydata.org/pandas-docs/stable/user_guide/indexing.html#returning-a-view-versus-a-copy\n",
      "C:\\Users\\gohal\\Desktop\\Coding\\bipp-datasets\\.venv\\lib\\site-packages\\ipykernel_launcher.py:108: SettingWithCopyWarning: \n",
      "A value is trying to be set on a copy of a slice from a DataFrame\n",
      "\n",
      "See the caveats in the documentation: https://pandas.pydata.org/pandas-docs/stable/user_guide/indexing.html#returning-a-view-versus-a-copy\n",
      "C:\\Users\\gohal\\Desktop\\Coding\\bipp-datasets\\.venv\\lib\\site-packages\\ipykernel_launcher.py:112: SettingWithCopyWarning: \n",
      "A value is trying to be set on a copy of a slice from a DataFrame\n",
      "\n",
      "See the caveats in the documentation: https://pandas.pydata.org/pandas-docs/stable/user_guide/indexing.html#returning-a-view-versus-a-copy\n"
     ]
    }
   ],
   "source": [
    "for i in range(0, 425266):\n",
    "    df['district'][i] = df['district'][i].rstrip(',')\n",
    "    if (df['district'][i].upper() == 'MEWAT'):\n",
    "        df['district'][i] = 'NUH'\n",
    "    if (df['district'][i].upper() == 'ALLAHABAD'):\n",
    "        df['district'][i] = 'PRAYAGRAJ'\n",
    "    if (df['district'][i].upper() == 'HAJIPUR'):\n",
    "        df['district'][i] = 'VAISHALI'\n",
    "    if (df['district'][i].upper() == 'BAKHTIYARPUR (PATNA)'):\n",
    "        df['district'][i] = 'PATNA'\n",
    "    if (df['district'][i].upper() == 'BARH (PATNA)'):\n",
    "        df['district'][i] = 'PATNA'\n",
    "    if (df['district'][i].upper() == 'EAST CHMAPARAN'):\n",
    "        df['district'][i] = 'PURBI CHAMPARAN'\n",
    "    if (df['district'][i].upper() == 'EAST CHAMPARAN'):\n",
    "        df['district'][i] = 'PURBI CHAMPARAN'\n",
    "    if (df['district'][i].upper() == 'MAGARLOAD (DHAMTARI)'):\n",
    "        df['district'][i] = 'DHAMTARI'\n",
    "    if (df['district'][i].upper() == 'GHUMANHERA'):\n",
    "        df['district'][i] = 'SOUTH WEST'\n",
    "    if (df['district'][i].upper() == 'NUVEM'):\n",
    "        df['district'][i] = 'SOUTH GOA'\n",
    "    if (df['district'][i].upper() == 'PERNEM'):\n",
    "        df['district'][i] = 'NORTH GOA'\n",
    "    if (df['district'][i].upper() == 'KUTCH'):\n",
    "        df['district'][i] = 'KACHCHH'\n",
    "    if (df['district'][i].upper() == 'DAHOD'):\n",
    "        df['district'][i] = 'DOHAD'\n",
    "    if (df['district'][i].upper() == 'GURGAON'):\n",
    "        df['district'][i] = 'GURUGRAM'\n",
    "    if (df['district'][i].upper() == 'JAMMU'):\n",
    "        df['state'][i] = 'JAMMU AND KASHMIR'\n",
    "    if (df['district'][i].upper() == 'NAGADI'):\n",
    "        df['district'][i] = 'RANCHI'\n",
    "    if (df['district'][i].upper() == 'GULBARGA, (KALABURAGI)'):\n",
    "        df['district'][i] = 'KALABURAGI'\n",
    "    if (df['district'][i].upper() == 'GULBARGA'):\n",
    "        df['district'][i] = 'KALABURAGI'\n",
    "    if (df['district'][i].upper() == \"BIJAPUR (VIJAYPUR)\"):\n",
    "        df['district'][i] = 'VIJAYAPURA'\n",
    "    if (df['district'][i].upper() == 'SIRIGERE (CHITRADURGA)'):\n",
    "        df['district'][i] = 'CHITRADURGA'\n",
    "    if (df['district'][i].upper() == 'DIGRAS'):\n",
    "        df['district'][i] = 'YAVATMAL'\n",
    "    if (df['district'][i].upper() == 'BANKI'):\n",
    "        df['district'][i] = 'CUTTACK'\n",
    "    if (df['district'][i].upper() == 'BADAMBA'):\n",
    "        df['district'][i] = 'CUTTACK'\n",
    "    if (df['district'][i].upper() == 'BARAMBA'):\n",
    "        df['district'][i] = 'CUTTACK'\n",
    "    if (df['district'][i].upper() == 'TIGIRIA'):\n",
    "        df['district'][i] = 'CUTTACK'\n",
    "    if (df['district'][i].upper() == 'BAINA,HINJILICUT'):\n",
    "        df['district'][i] = 'GANJAM'\n",
    "    if (df['district'][i].upper() == 'HINJILICUT'):\n",
    "        df['district'][i] = 'GANJAM'\n",
    "    if (df['district'][i].upper() == 'PAKHOWAL'):\n",
    "        df['district'][i] = 'LUDHIANA'\n",
    "    if (df['district'][i].upper() == 'WEST SIKKIM'):\n",
    "        df['district'][i] = 'WEST DISTRICT'\n",
    "    if (df['district'][i].upper() == 'EAST SIKKIM'):\n",
    "        df['district'][i] = 'EAST DISTRICT'\n",
    "    if (df['district'][i].upper() == 'NORTH SIKKIM'):\n",
    "        df['district'][i] = 'NORTH DISTRICT'\n",
    "    if (df['district'][i].upper() == 'SOUTH SIKKIM'):\n",
    "        df['district'][i] = 'SOUTH DISTRICT'\n",
    "    if (df['district'][i].upper() == 'SRINAGAR'):\n",
    "        df['state'][i] = 'JAMMU AND KASHMIR'\n",
    "    if (df['district'][i].upper() == 'THOOTHUKUDI'):\n",
    "        df['district'][i] = 'TUTICORIN'\n",
    "    if (df['district'][i].upper() == 'BADKOT'):\n",
    "        df['district'][i] = 'UTTARKASHI'\n",
    "    if (df['district'][i].upper() == 'NOWGAON'):\n",
    "        df['district'][i] = 'NAGAON'\n",
    "    if (df['district'][i].upper() == 'Y S R KADAPA'):\n",
    "        df['district'][i] = 'Y.S.R.'\n",
    "    if (df['district'][i].upper() == 'KAMRUP RURAL'):\n",
    "        df['district'][i] = 'KAMRUP'\n",
    "    if (df['district'][i].upper() == 'SIBSAGAR'):\n",
    "        df['district'][i] = 'SIVASAGAR'\n",
    "    if (df['district'][i].upper() == 'CHAPRA(SARAN)'):\n",
    "        df['district'][i] = 'SARAN'\n",
    "    if (df['district'][i].upper() == 'WEST CHAMPARAN'):\n",
    "        df['district'][i] = 'PASHCHIM CHAMPARAN'\n",
    "    if (df['district'][i].upper() == 'MOHINDERGARH'):\n",
    "        df['district'][i] = 'MAHENDRAGARH'\n",
    "    if (df['district'][i].upper() == 'PASHCHIMI SINGHBHUM'):\n",
    "        df['district'][i] = 'WEST SINGHBHUM'\n",
    "    if (df['district'][i].upper() == 'PURBI SINGHBHUM'):\n",
    "        df['district'][i] = 'EAST SINGHBHUM'\n",
    "    if (df['district'][i].upper() == 'BANGALORE R'):\n",
    "        df['district'][i] = 'BENGALURU RURAL'\n",
    "    if (df['district'][i].upper() == 'BANGALORE U'):\n",
    "        df['district'][i] = 'BENGALURU URBAN'\n",
    "    if (df['district'][i].upper() == 'BELGAUM'):\n",
    "        df['district'][i] = 'BELAGAVI'\n",
    "    if (df['district'][i].upper() == 'BELLARY'):\n",
    "        df['district'][i] = 'BALLARI'\n",
    "    if (df['district'][i].upper() == 'MYSORE'):\n",
    "        df['district'][i] = 'MYSURU'\n",
    "    if (df['district'][i].upper() == 'BALASORE'):\n",
    "        df['district'][i] = 'BALESHWAR'\n",
    "    if (df['district'][i].upper() == 'BALASORE'):\n",
    "        df['district'][i] = 'BALESHWAR'\n",
    "    if (df['district'][i].upper() == 'NORTH 24 PARGANAS'):\n",
    "        df['district'][i] = '24 PARGANAS NORTH'\n",
    "    if (df['district'][i].upper() == 'SOUTH 24-PARGANAS'):\n",
    "        df['district'][i] = '24 PARGANAS SOUTH'\n",
    "    if (df['district'][i].upper() == 'DAKSHIN DINAJPUR'):\n",
    "        df['district'][i] = 'DINAJPUR DAKSHIN'\n",
    "    if (df['district'][i].upper() == 'UTTARDINAJPUR'):\n",
    "        df['district'][i] = 'DINAJPUR UTTAR'\n",
    "    if (df['district'][i].upper() == 'PASCHIM MEDINIPUR'):\n",
    "        df['district'][i] = 'MEDINIPUR WEST'\n",
    "    if (df['district'][i].upper() == 'PURBA MEDINIPUR'):\n",
    "        df['district'][i] = 'MEDINIPUR EAST'\n",
    "    if (df['district'][i].upper() == 'N.C.HILLS'):\n",
    "        df['district'][i] = 'DIMA HASAO'\n",
    "    if (df['district'][i].upper() == 'CHICKBALLAPUR'):\n",
    "        df['district'][i] = 'CHIKKABALLAPURA'\n",
    "    if (df['district'][i].upper() == 'CHICKMAGALUR'):\n",
    "        df['district'][i] = 'CHIKKAMAGALURU'\n",
    "    if (df['district'][i].upper() == 'KHANDWA'):\n",
    "        df['district'][i] = 'EAST NIMAR'\n",
    "    if (df['district'][i].upper() == 'MUKATSAR'):\n",
    "        df['district'][i] = 'SRI MUKTSAR SAHIB'\n",
    "    if (df['district'][i].upper() == 'NAWASHAHAR'):\n",
    "        df['district'][i] = 'SHAHID BHAGAT SINGH NAGAR'\n",
    "    if (df['district'][i].upper() == 'EAST'):\n",
    "        df['district'][i] = 'EAST DISTRICT'\n",
    "    if (df['district'][i].upper() == 'NORTH'):\n",
    "        df['district'][i] = 'NORTH DISTRICT'\n",
    "    if (df['district'][i].upper() == 'SOUTH'):\n",
    "        df['district'][i] = 'SOUTH DISTRICT'\n",
    "    if (df['district'][i].upper() == 'FAIZABAD'):\n",
    "        df['district'][i] = 'AYODHYA'\n",
    "    if (df['district'][i].upper() == 'G.B. NAGAR'):\n",
    "        df['district'][i] = 'GAUTAM BUDDHA NAGAR'\n",
    "    if (df['district'][i].upper() == 'J.B.F.NAGAR'):\n",
    "        df['district'][i] = 'AMROHA'\n",
    "    if (df['district'][i].upper() == 'LAKHIMPUR-KHERII'):\n",
    "        df['district'][i] = 'KHERI'\n",
    "    if (df['district'][i].upper() == 'S.K. NAGAR'):\n",
    "        df['district'][i] = 'SANT KABEER NAGAR'\n",
    "    if (df['district'][i].upper() == 'SS.R. NAGAR(BHADOHI)'):\n",
    "        df['district'][i] = 'BHADOHI'\n",
    "    if (df['district'][i].upper() == 'PAURI'):\n",
    "        df['district'][i] = 'PAURI GARHWAL'\n",
    "    if (df['district'][i].upper() == 'TEHRI'):\n",
    "        df['district'][i] = 'TEHRI GARHWAL'\n",
    "    if (df['district'][i].upper() == 'SILIGURI M.P'):\n",
    "        df['district'][i] = 'DARJEELING'\n",
    "    "
   ]
  },
  {
   "cell_type": "code",
   "execution_count": 75,
   "metadata": {},
   "outputs": [
    {
     "name": "stderr",
     "output_type": "stream",
     "text": [
      "C:\\Users\\gohal\\Desktop\\Coding\\bipp-datasets\\.venv\\lib\\site-packages\\ipykernel_launcher.py:16: SettingWithCopyWarning: \n",
      "A value is trying to be set on a copy of a slice from a DataFrame\n",
      "\n",
      "See the caveats in the documentation: https://pandas.pydata.org/pandas-docs/stable/user_guide/indexing.html#returning-a-view-versus-a-copy\n",
      "  app.launch_new_instance()\n",
      "C:\\Users\\gohal\\Desktop\\Coding\\bipp-datasets\\.venv\\lib\\site-packages\\ipykernel_launcher.py:18: SettingWithCopyWarning: \n",
      "A value is trying to be set on a copy of a slice from a DataFrame\n",
      "\n",
      "See the caveats in the documentation: https://pandas.pydata.org/pandas-docs/stable/user_guide/indexing.html#returning-a-view-versus-a-copy\n",
      "C:\\Users\\gohal\\Desktop\\Coding\\bipp-datasets\\.venv\\lib\\site-packages\\ipykernel_launcher.py:20: SettingWithCopyWarning: \n",
      "A value is trying to be set on a copy of a slice from a DataFrame\n",
      "\n",
      "See the caveats in the documentation: https://pandas.pydata.org/pandas-docs/stable/user_guide/indexing.html#returning-a-view-versus-a-copy\n",
      "C:\\Users\\gohal\\Desktop\\Coding\\bipp-datasets\\.venv\\lib\\site-packages\\ipykernel_launcher.py:22: SettingWithCopyWarning: \n",
      "A value is trying to be set on a copy of a slice from a DataFrame\n",
      "\n",
      "See the caveats in the documentation: https://pandas.pydata.org/pandas-docs/stable/user_guide/indexing.html#returning-a-view-versus-a-copy\n",
      "C:\\Users\\gohal\\Desktop\\Coding\\bipp-datasets\\.venv\\lib\\site-packages\\ipykernel_launcher.py:25: SettingWithCopyWarning: \n",
      "A value is trying to be set on a copy of a slice from a DataFrame\n",
      "\n",
      "See the caveats in the documentation: https://pandas.pydata.org/pandas-docs/stable/user_guide/indexing.html#returning-a-view-versus-a-copy\n",
      "C:\\Users\\gohal\\Desktop\\Coding\\bipp-datasets\\.venv\\lib\\site-packages\\ipykernel_launcher.py:28: SettingWithCopyWarning: \n",
      "A value is trying to be set on a copy of a slice from a DataFrame\n",
      "\n",
      "See the caveats in the documentation: https://pandas.pydata.org/pandas-docs/stable/user_guide/indexing.html#returning-a-view-versus-a-copy\n",
      "C:\\Users\\gohal\\Desktop\\Coding\\bipp-datasets\\.venv\\lib\\site-packages\\ipykernel_launcher.py:30: SettingWithCopyWarning: \n",
      "A value is trying to be set on a copy of a slice from a DataFrame\n",
      "\n",
      "See the caveats in the documentation: https://pandas.pydata.org/pandas-docs/stable/user_guide/indexing.html#returning-a-view-versus-a-copy\n",
      "C:\\Users\\gohal\\Desktop\\Coding\\bipp-datasets\\.venv\\lib\\site-packages\\ipykernel_launcher.py:32: SettingWithCopyWarning: \n",
      "A value is trying to be set on a copy of a slice from a DataFrame\n",
      "\n",
      "See the caveats in the documentation: https://pandas.pydata.org/pandas-docs/stable/user_guide/indexing.html#returning-a-view-versus-a-copy\n",
      "C:\\Users\\gohal\\Desktop\\Coding\\bipp-datasets\\.venv\\lib\\site-packages\\ipykernel_launcher.py:4: SettingWithCopyWarning: \n",
      "A value is trying to be set on a copy of a slice from a DataFrame\n",
      "\n",
      "See the caveats in the documentation: https://pandas.pydata.org/pandas-docs/stable/user_guide/indexing.html#returning-a-view-versus-a-copy\n",
      "  after removing the cwd from sys.path.\n",
      "C:\\Users\\gohal\\Desktop\\Coding\\bipp-datasets\\.venv\\lib\\site-packages\\ipykernel_launcher.py:6: SettingWithCopyWarning: \n",
      "A value is trying to be set on a copy of a slice from a DataFrame\n",
      "\n",
      "See the caveats in the documentation: https://pandas.pydata.org/pandas-docs/stable/user_guide/indexing.html#returning-a-view-versus-a-copy\n",
      "  \n",
      "C:\\Users\\gohal\\Desktop\\Coding\\bipp-datasets\\.venv\\lib\\site-packages\\ipykernel_launcher.py:35: SettingWithCopyWarning: \n",
      "A value is trying to be set on a copy of a slice from a DataFrame\n",
      "\n",
      "See the caveats in the documentation: https://pandas.pydata.org/pandas-docs/stable/user_guide/indexing.html#returning-a-view-versus-a-copy\n",
      "C:\\Users\\gohal\\Desktop\\Coding\\bipp-datasets\\.venv\\lib\\site-packages\\ipykernel_launcher.py:38: SettingWithCopyWarning: \n",
      "A value is trying to be set on a copy of a slice from a DataFrame\n",
      "\n",
      "See the caveats in the documentation: https://pandas.pydata.org/pandas-docs/stable/user_guide/indexing.html#returning-a-view-versus-a-copy\n",
      "C:\\Users\\gohal\\Desktop\\Coding\\bipp-datasets\\.venv\\lib\\site-packages\\ipykernel_launcher.py:13: SettingWithCopyWarning: \n",
      "A value is trying to be set on a copy of a slice from a DataFrame\n",
      "\n",
      "See the caveats in the documentation: https://pandas.pydata.org/pandas-docs/stable/user_guide/indexing.html#returning-a-view-versus-a-copy\n",
      "  del sys.path[0]\n",
      "C:\\Users\\gohal\\Desktop\\Coding\\bipp-datasets\\.venv\\lib\\site-packages\\ipykernel_launcher.py:9: SettingWithCopyWarning: \n",
      "A value is trying to be set on a copy of a slice from a DataFrame\n",
      "\n",
      "See the caveats in the documentation: https://pandas.pydata.org/pandas-docs/stable/user_guide/indexing.html#returning-a-view-versus-a-copy\n",
      "  if __name__ == '__main__':\n",
      "C:\\Users\\gohal\\Desktop\\Coding\\bipp-datasets\\.venv\\lib\\site-packages\\ipykernel_launcher.py:11: SettingWithCopyWarning: \n",
      "A value is trying to be set on a copy of a slice from a DataFrame\n",
      "\n",
      "See the caveats in the documentation: https://pandas.pydata.org/pandas-docs/stable/user_guide/indexing.html#returning-a-view-versus-a-copy\n",
      "  # This is added back by InteractiveShellApp.init_path()\n"
     ]
    }
   ],
   "source": [
    "for i in range(0, 425266):\n",
    "    if (df['district'][i].upper() == 'JAINTIA'):\n",
    "        if(df['block'][i] in ['AMLAREM', 'LASKEIN', 'THADLASKEIN']):\n",
    "            df['district'][i] = 'WEST JAINTIA HILLS'\n",
    "        else:\n",
    "            df['district'][i] = 'EAST JAINTIA HILLS'\n",
    "    if (df['district'][i].upper() == 'WARANGAL'):\n",
    "        if(df['block'][i].upper() == 'NALLABELLY'):\n",
    "            df['block'][i] = 'NALLA BELLI'\n",
    "        elif(df['block'][i].upper() == 'WARDHANNAPET'):\n",
    "            df['block'][i] = 'WARDHANNA PET'\n",
    "        if(df['block'][i] in ['NALLA BELLI', 'ATMAKUR', 'DUGGONDI', 'KHANAPUR', 'NEKKONDA', 'PARKAL', 'SANGEM', 'WARDHANNA PET']):\n",
    "            df['district'][i] = 'WARANGAL RURAL'\n",
    "    if(df['district'][i].upper() == 'Y.S.R.'):\n",
    "        if (df['block'][i].upper() == 'B MATTAM'):\n",
    "            df['block'][i] = 'BRAHMAMGARIMATHAM.'\n",
    "        if (df['block'][i].upper() == 'C K DINNE'):\n",
    "            df['block'][i] = 'CHINTAKOMMA DINNE.'\n",
    "        if (df['block'][i].upper() == 'CUDDAPAH'):\n",
    "            df['block'][i] = 'KADAPA'\n",
    "        if (df['block'][i].upper() == 'V N PALLI'):\n",
    "            df['block'][i] = 'VEERAPANAYANI PALLE'\n",
    "    if(df['district'][i].upper() == 'KHUNTI'):\n",
    "        if (df['block'][i].upper() == 'TAMAR'):\n",
    "            df['block'][i] = 'ARKI'\n",
    "    if(df['district'][i].upper() == 'BENGALURU URBAN'):\n",
    "        if (df['block'][i].upper() == 'BANGALORE(E)'):\n",
    "            df['block'][i] = 'BENGALURU EAST'\n",
    "        if (df['block'][i].upper() == 'BANGALORE(N)'):\n",
    "            df['block'][i] = 'BENGALURU NORTH'\n",
    "        if (df['block'][i].upper() == 'BANGALORE(S)'):\n",
    "            df['block'][i] = 'BENGALURU SOUTH'\n",
    "    if(df['district'][i].upper() == 'AJMER'):\n",
    "        if (df['block'][i].upper() == 'SILORA (KISHANGARH)'):\n",
    "            df['block'][i] = 'Kishangarh SILORA'\n",
    "    if(df['district'][i].upper() == 'BARMER'):\n",
    "        if (df['block'][i].upper() == 'BALOTRA (PACHPADRA)'):\n",
    "            df['block'][i] = 'BALTORA'"
   ]
  },
  {
   "cell_type": "code",
   "execution_count": 76,
   "metadata": {},
   "outputs": [],
   "source": [
    "df[\"state_dist\"] = df[\"state\"] + df[\"district\"]\n",
    "df[\"state_dist_bk\"] = df[\"state\"] + df[\"district\"] + df[\"block\"]"
   ]
  },
  {
   "cell_type": "code",
   "execution_count": 77,
   "metadata": {},
   "outputs": [],
   "source": [
    "df1 = pd.merge(\n",
    "            df,\n",
    "            lgd,\n",
    "            how=\"outer\",\n",
    "            left_on=\"state_dist_bk\",\n",
    "            right_on=\"state_dist_bk\",\n",
    "            validate=\"m:1\",\n",
    "            indicator=True,\n",
    "            suffixes=[\"_DATA\", \"_LGD\"],\n",
    "        )"
   ]
  },
  {
   "cell_type": "code",
   "execution_count": 78,
   "metadata": {},
   "outputs": [
    {
     "data": {
      "text/plain": [
       "both          263153\n",
       "left_only     162113\n",
       "right_only      3427\n",
       "Name: _merge, dtype: int64"
      ]
     },
     "execution_count": 78,
     "metadata": {},
     "output_type": "execute_result"
    }
   ],
   "source": [
    "df1['_merge'].value_counts()"
   ]
  },
  {
   "cell_type": "code",
   "execution_count": 79,
   "metadata": {},
   "outputs": [
    {
     "data": {
      "text/plain": [
       "Index(['sr.no._x', 'state_DATA', 'district_DATA', 'block_DATA', 'packages',\n",
       "       'sanctioned year_x', 'road name', 'upgrade / new', 'surface type',\n",
       "       'length', 'pavement cost', 'no. of cd works', 'cd work cost',\n",
       "       'lsb cost', 'lsb state cost', 'protection work', 'other works',\n",
       "       'present status', 'completed length', 'expenditure till date',\n",
       "       'total cost', 'view', 'habitation name', 'population',\n",
       "       'sc/st population', 'sr.no._y', 'state name', 'district name',\n",
       "       'block name', 'package id', 'sanctioned year_y', 'road length',\n",
       "       'work award date', 'completion date', 'status', 'contractor name',\n",
       "       'company name', 'total population', 'state_dist_DATA', 'state_dist_bk',\n",
       "       'St_LGD_code', 'state_LGD', 'Dt_LGD_code', 'district_LGD',\n",
       "       'Bk_LGD_code', 'block_LGD', 'state_dist_LGD', '_merge'],\n",
       "      dtype='object')"
      ]
     },
     "execution_count": 79,
     "metadata": {},
     "output_type": "execute_result"
    }
   ],
   "source": [
    "df1.columns"
   ]
  },
  {
   "cell_type": "code",
   "execution_count": 80,
   "metadata": {},
   "outputs": [],
   "source": [
    "not_lgd_mapped = df1[(df1[\"_merge\"] == \"left_only\")][\n",
    "            [\n",
    "                \"state_DATA\",\n",
    "                \"district_DATA\",\n",
    "                \"block_DATA\",\n",
    "                \"state_dist_DATA\",\n",
    "                \"state_dist_bk\"\n",
    "            ]\n",
    "        ]"
   ]
  },
  {
   "cell_type": "code",
   "execution_count": 81,
   "metadata": {},
   "outputs": [],
   "source": [
    "not_lgd_mapped = not_lgd_mapped.drop_duplicates(subset=\"state_dist_bk\")"
   ]
  },
  {
   "cell_type": "code",
   "execution_count": 82,
   "metadata": {},
   "outputs": [
    {
     "data": {
      "text/plain": [
       "2626"
      ]
     },
     "execution_count": 82,
     "metadata": {},
     "output_type": "execute_result"
    }
   ],
   "source": [
    "len(not_lgd_mapped)"
   ]
  },
  {
   "cell_type": "code",
   "execution_count": 83,
   "metadata": {},
   "outputs": [],
   "source": [
    "result1 = [\n",
    "            process.extractOne(i, lgd[\"state_dist_bk\"])\n",
    "            for i in not_lgd_mapped[\"state_dist_bk\"][:800]\n",
    "        ]"
   ]
  },
  {
   "cell_type": "code",
   "execution_count": 84,
   "metadata": {},
   "outputs": [],
   "source": [
    "result2 = [\n",
    "            process.extractOne(i, lgd[\"state_dist_bk\"])\n",
    "            for i in not_lgd_mapped[\"state_dist_bk\"][800:1600]\n",
    "        ]"
   ]
  },
  {
   "cell_type": "code",
   "execution_count": 87,
   "metadata": {},
   "outputs": [],
   "source": [
    "result3 = [\n",
    "            process.extractOne(i, lgd[\"state_dist_bk\"])\n",
    "            for i in not_lgd_mapped[\"state_dist_bk\"][1600:2400]\n",
    "        ]"
   ]
  },
  {
   "cell_type": "code",
   "execution_count": 88,
   "metadata": {},
   "outputs": [],
   "source": [
    "result4 = [\n",
    "            process.extractOne(i, lgd[\"state_dist_bk\"])\n",
    "            for i in not_lgd_mapped[\"state_dist_bk\"][2400:2626]\n",
    "        ]"
   ]
  },
  {
   "cell_type": "code",
   "execution_count": 89,
   "metadata": {},
   "outputs": [],
   "source": [
    "result = []"
   ]
  },
  {
   "cell_type": "code",
   "execution_count": 90,
   "metadata": {},
   "outputs": [],
   "source": [
    "for i in range(0, len(result1)):\n",
    "    result.append(result1[i])\n",
    "for i in range(0, len(result2)):\n",
    "    result.append(result2[i])\n",
    "for i in range(0, len(result3)):\n",
    "    result.append(result3[i])\n",
    "for i in range(0, len(result4)):\n",
    "    result.append(result4[i])"
   ]
  },
  {
   "cell_type": "code",
   "execution_count": 91,
   "metadata": {},
   "outputs": [],
   "source": [
    "result = pd.DataFrame(result, columns=[\"match\", \"score\", \"id\"])\n",
    "result.drop(\"id\", axis=1, inplace=True)"
   ]
  },
  {
   "cell_type": "code",
   "execution_count": 92,
   "metadata": {},
   "outputs": [
    {
     "data": {
      "text/html": [
       "<div>\n",
       "<style scoped>\n",
       "    .dataframe tbody tr th:only-of-type {\n",
       "        vertical-align: middle;\n",
       "    }\n",
       "\n",
       "    .dataframe tbody tr th {\n",
       "        vertical-align: top;\n",
       "    }\n",
       "\n",
       "    .dataframe thead th {\n",
       "        text-align: right;\n",
       "    }\n",
       "</style>\n",
       "<table border=\"1\" class=\"dataframe\">\n",
       "  <thead>\n",
       "    <tr style=\"text-align: right;\">\n",
       "      <th></th>\n",
       "      <th>match</th>\n",
       "      <th>score</th>\n",
       "    </tr>\n",
       "  </thead>\n",
       "  <tbody>\n",
       "    <tr>\n",
       "      <th>0</th>\n",
       "      <td>ANDHRA PRADESHANANTAPURCHENNEKOTHAPALLE</td>\n",
       "      <td>99</td>\n",
       "    </tr>\n",
       "    <tr>\n",
       "      <th>1</th>\n",
       "      <td>ANDHRA PRADESHANANTAPURD.HIREHAL</td>\n",
       "      <td>100</td>\n",
       "    </tr>\n",
       "    <tr>\n",
       "      <th>2</th>\n",
       "      <td>ANDHRA PRADESHANANTAPURKALYANDRUG</td>\n",
       "      <td>97</td>\n",
       "    </tr>\n",
       "    <tr>\n",
       "      <th>3</th>\n",
       "      <td>ANDHRA PRADESHANANTAPURNAMBULAPULIKUNTA</td>\n",
       "      <td>97</td>\n",
       "    </tr>\n",
       "    <tr>\n",
       "      <th>4</th>\n",
       "      <td>ANDHRA PRADESHANANTAPUROBULADEVARECHERUVU</td>\n",
       "      <td>98</td>\n",
       "    </tr>\n",
       "    <tr>\n",
       "      <th>...</th>\n",
       "      <td>...</td>\n",
       "      <td>...</td>\n",
       "    </tr>\n",
       "    <tr>\n",
       "      <th>2621</th>\n",
       "      <td>WEST BENGAL24 PARAGANAS SOUTHPATHAR PRATIMA</td>\n",
       "      <td>98</td>\n",
       "    </tr>\n",
       "    <tr>\n",
       "      <th>2622</th>\n",
       "      <td>WEST BENGAL24 PARAGANAS SOUTHSAGAR</td>\n",
       "      <td>99</td>\n",
       "    </tr>\n",
       "    <tr>\n",
       "      <th>2623</th>\n",
       "      <td>WEST BENGAL24 PARAGANAS SOUTHSONAR PUR</td>\n",
       "      <td>97</td>\n",
       "    </tr>\n",
       "    <tr>\n",
       "      <th>2624</th>\n",
       "      <td>WEST BENGAL24 PARAGANAS SOUTHTHAKURPUKUR MAHES...</td>\n",
       "      <td>87</td>\n",
       "    </tr>\n",
       "    <tr>\n",
       "      <th>2625</th>\n",
       "      <td>WEST BENGALDINAJPUR UTTARGOALPOKHAR II</td>\n",
       "      <td>100</td>\n",
       "    </tr>\n",
       "  </tbody>\n",
       "</table>\n",
       "<p>2626 rows × 2 columns</p>\n",
       "</div>"
      ],
      "text/plain": [
       "                                                  match  score\n",
       "0               ANDHRA PRADESHANANTAPURCHENNEKOTHAPALLE     99\n",
       "1                      ANDHRA PRADESHANANTAPURD.HIREHAL    100\n",
       "2                     ANDHRA PRADESHANANTAPURKALYANDRUG     97\n",
       "3               ANDHRA PRADESHANANTAPURNAMBULAPULIKUNTA     97\n",
       "4             ANDHRA PRADESHANANTAPUROBULADEVARECHERUVU     98\n",
       "...                                                 ...    ...\n",
       "2621        WEST BENGAL24 PARAGANAS SOUTHPATHAR PRATIMA     98\n",
       "2622                 WEST BENGAL24 PARAGANAS SOUTHSAGAR     99\n",
       "2623             WEST BENGAL24 PARAGANAS SOUTHSONAR PUR     97\n",
       "2624  WEST BENGAL24 PARAGANAS SOUTHTHAKURPUKUR MAHES...     87\n",
       "2625             WEST BENGALDINAJPUR UTTARGOALPOKHAR II    100\n",
       "\n",
       "[2626 rows x 2 columns]"
      ]
     },
     "execution_count": 92,
     "metadata": {},
     "output_type": "execute_result"
    }
   ],
   "source": [
    "result"
   ]
  },
  {
   "cell_type": "code",
   "execution_count": 93,
   "metadata": {},
   "outputs": [],
   "source": [
    "not_lgd_proxy_df = (\n",
    "                pd.DataFrame(not_lgd_mapped[\"state_dist_bk\"], index=None)\n",
    "                .reset_index()\n",
    "                .drop(\"index\", axis=1)\n",
    "        )"
   ]
  },
  {
   "cell_type": "code",
   "execution_count": 94,
   "metadata": {},
   "outputs": [],
   "source": [
    "mapper_df = pd.concat(\n",
    "            [not_lgd_proxy_df, result],\n",
    "            axis=1,\n",
    "            ignore_index=True,\n",
    "            names=[\"original\", \"match\", \"score\"],\n",
    "        )\n",
    "    "
   ]
  },
  {
   "cell_type": "code",
   "execution_count": 95,
   "metadata": {},
   "outputs": [],
   "source": [
    "mapper_df = mapper_df[mapper_df[2] >= 88]"
   ]
  },
  {
   "cell_type": "code",
   "execution_count": 96,
   "metadata": {},
   "outputs": [],
   "source": [
    "mapper_dict = dict(zip(mapper_df[0], mapper_df[1]))\n",
    "df[\"state_dist_bk\"] = df[\"state_dist_bk\"].replace(mapper_dict)"
   ]
  },
  {
   "cell_type": "code",
   "execution_count": 97,
   "metadata": {},
   "outputs": [],
   "source": [
    "df1 = pd.merge(\n",
    "            df,\n",
    "            lgd,\n",
    "            how=\"outer\",\n",
    "            left_on=\"state_dist_bk\",\n",
    "            right_on=\"state_dist_bk\",\n",
    "            validate=\"m:1\",\n",
    "            indicator=True,\n",
    "            suffixes=[\"_DATA\", \"_LGD\"],\n",
    "        )\n"
   ]
  },
  {
   "cell_type": "code",
   "execution_count": 98,
   "metadata": {},
   "outputs": [
    {
     "data": {
      "text/plain": [
       "both          414125\n",
       "left_only      11141\n",
       "right_only      1016\n",
       "Name: _merge, dtype: int64"
      ]
     },
     "execution_count": 98,
     "metadata": {},
     "output_type": "execute_result"
    }
   ],
   "source": [
    "df1[\"_merge\"].value_counts()"
   ]
  },
  {
   "cell_type": "code",
   "execution_count": 99,
   "metadata": {},
   "outputs": [],
   "source": [
    "not_lgd_mapped = df1[(df1[\"_merge\"] == \"left_only\")][\n",
    "            [\n",
    "                \"state_DATA\",\n",
    "                \"district_DATA\",\n",
    "                \"block_DATA\",\n",
    "                \"state_dist_DATA\",\n",
    "                \"state_dist_bk\"\n",
    "            ]\n",
    "        ]"
   ]
  },
  {
   "cell_type": "code",
   "execution_count": 100,
   "metadata": {},
   "outputs": [],
   "source": [
    "not_lgd_mapped = not_lgd_mapped.drop_duplicates(subset=\"state_dist_bk\")"
   ]
  },
  {
   "cell_type": "code",
   "execution_count": 101,
   "metadata": {},
   "outputs": [
    {
     "data": {
      "text/plain": [
       "167"
      ]
     },
     "execution_count": 101,
     "metadata": {},
     "output_type": "execute_result"
    }
   ],
   "source": [
    "len(not_lgd_mapped)"
   ]
  },
  {
   "cell_type": "code",
   "execution_count": 103,
   "metadata": {},
   "outputs": [],
   "source": [
    "result = [\n",
    "            process.extractOne(i, lgd[\"state_dist_bk\"])\n",
    "            for i in not_lgd_mapped[\"state_dist_bk\"]\n",
    "        ]\n"
   ]
  },
  {
   "cell_type": "code",
   "execution_count": 104,
   "metadata": {},
   "outputs": [],
   "source": [
    "result = pd.DataFrame(result, columns=[\"match\", \"score\", \"id\"])\n",
    "result.drop(\"id\", axis=1, inplace=True)"
   ]
  },
  {
   "cell_type": "code",
   "execution_count": 105,
   "metadata": {},
   "outputs": [],
   "source": [
    "not_lgd_proxy_df = (\n",
    "                pd.DataFrame(not_lgd_mapped[\"state_dist_bk\"], index=None)\n",
    "                .reset_index()\n",
    "                .drop(\"index\", axis=1)\n",
    "        )"
   ]
  },
  {
   "cell_type": "code",
   "execution_count": 106,
   "metadata": {},
   "outputs": [],
   "source": [
    "mapper_df = pd.concat(\n",
    "            [not_lgd_proxy_df, result],\n",
    "            axis=1,\n",
    "            ignore_index=True,\n",
    "            names=[\"original\", \"match\", \"score\"],\n",
    "        )"
   ]
  },
  {
   "cell_type": "code",
   "execution_count": 107,
   "metadata": {},
   "outputs": [],
   "source": [
    "mapper_df = mapper_df[mapper_df[2] >= 90]"
   ]
  },
  {
   "cell_type": "code",
   "execution_count": 108,
   "metadata": {},
   "outputs": [],
   "source": [
    "mapper_dict = dict(zip(mapper_df[0], mapper_df[1]))\n",
    "df[\"state_dist_bk\"] = df[\"state_dist_bk\"].replace(mapper_dict)"
   ]
  },
  {
   "cell_type": "code",
   "execution_count": 109,
   "metadata": {},
   "outputs": [],
   "source": [
    "df1 = pd.merge(\n",
    "            df,\n",
    "            lgd,\n",
    "            how=\"outer\",\n",
    "            left_on=\"state_dist_bk\",\n",
    "            right_on=\"state_dist_bk\",\n",
    "            validate=\"m:1\",\n",
    "            indicator=True,\n",
    "            suffixes=[\"_DATA\", \"_LGD\"],\n",
    "        )"
   ]
  },
  {
   "cell_type": "code",
   "execution_count": 110,
   "metadata": {},
   "outputs": [
    {
     "data": {
      "text/plain": [
       "both          414125\n",
       "left_only      11141\n",
       "right_only      1016\n",
       "Name: _merge, dtype: int64"
      ]
     },
     "execution_count": 110,
     "metadata": {},
     "output_type": "execute_result"
    }
   ],
   "source": [
    "df1[\"_merge\"].value_counts()"
   ]
  },
  {
   "cell_type": "code",
   "execution_count": 111,
   "metadata": {},
   "outputs": [],
   "source": [
    "not_lgd_mapped = df1[(df1[\"_merge\"] == \"left_only\")][\n",
    "            [\n",
    "                \"state_DATA\",\n",
    "                \"district_DATA\",\n",
    "                \"block_DATA\",\n",
    "                \"state_dist_DATA\",\n",
    "                \"state_dist_bk\"\n",
    "            ]\n",
    "        ]"
   ]
  },
  {
   "cell_type": "code",
   "execution_count": 112,
   "metadata": {},
   "outputs": [],
   "source": [
    "not_lgd_mapped = not_lgd_mapped.drop_duplicates(subset=\"state_dist_bk\")"
   ]
  },
  {
   "cell_type": "code",
   "execution_count": 113,
   "metadata": {},
   "outputs": [
    {
     "data": {
      "text/plain": [
       "167"
      ]
     },
     "execution_count": 113,
     "metadata": {},
     "output_type": "execute_result"
    }
   ],
   "source": [
    "len(not_lgd_mapped)"
   ]
  },
  {
   "cell_type": "code",
   "execution_count": 114,
   "metadata": {},
   "outputs": [],
   "source": [
    "not_lgd_mapped.to_csv(\"pmgsy_unmapped.csv\")"
   ]
  },
  {
   "cell_type": "code",
   "execution_count": 134,
   "metadata": {},
   "outputs": [],
   "source": [
    "df2  = df1[df1['_merge'] == 'both']"
   ]
  },
  {
   "cell_type": "code",
   "execution_count": 135,
   "metadata": {},
   "outputs": [
    {
     "name": "stderr",
     "output_type": "stream",
     "text": [
      "C:\\Users\\gohal\\Desktop\\Coding\\bipp-datasets\\.venv\\lib\\site-packages\\pandas\\core\\frame.py:4174: SettingWithCopyWarning: \n",
      "A value is trying to be set on a copy of a slice from a DataFrame\n",
      "\n",
      "See the caveats in the documentation: https://pandas.pydata.org/pandas-docs/stable/user_guide/indexing.html#returning-a-view-versus-a-copy\n",
      "  errors=errors,\n"
     ]
    }
   ],
   "source": [
    "df2.drop(['_merge'], axis = 1, inplace = True)"
   ]
  },
  {
   "cell_type": "code",
   "execution_count": 136,
   "metadata": {},
   "outputs": [],
   "source": [
    "df2.drop(['state_dist_LGD', 'block_LGD', 'state_LGD', 'district_LGD'], axis = 1, inplace =  True)"
   ]
  },
  {
   "cell_type": "code",
   "execution_count": 137,
   "metadata": {},
   "outputs": [],
   "source": [
    "l = df2.columns.to_list()"
   ]
  },
  {
   "cell_type": "code",
   "execution_count": 138,
   "metadata": {},
   "outputs": [],
   "source": [
    "l = ['sr.no._x',\n",
    " 'state_DATA',\n",
    " 'district_DATA',\n",
    " 'block_DATA',\n",
    " 'state_dist_DATA',\n",
    " 'state_dist_bk',\n",
    " 'St_LGD_code',\n",
    " 'Dt_LGD_code',\n",
    " 'Bk_LGD_code',\n",
    " 'packages',\n",
    " 'sanctioned year_x',\n",
    " 'road name',\n",
    " 'upgrade / new',\n",
    " 'surface type',\n",
    " 'length',\n",
    " 'pavement cost',\n",
    " 'no. of cd works',\n",
    " 'cd work cost',\n",
    " 'lsb cost',\n",
    " 'lsb state cost',\n",
    " 'protection work',\n",
    " 'other works',\n",
    " 'present status',\n",
    " 'completed length',\n",
    " 'expenditure till date',\n",
    " 'total cost',\n",
    " 'view',\n",
    " 'habitation name',\n",
    " 'population',\n",
    " 'sc/st population',\n",
    " 'sr.no._y',\n",
    " 'state name',\n",
    " 'district name',\n",
    " 'block name',\n",
    " 'package id',\n",
    " 'sanctioned year_y',\n",
    " 'road length',\n",
    " 'work award date',\n",
    " 'completion date',\n",
    " 'status',\n",
    " 'contractor name',\n",
    " 'company name',\n",
    " 'total population']"
   ]
  },
  {
   "cell_type": "code",
   "execution_count": 139,
   "metadata": {},
   "outputs": [],
   "source": [
    "df2 = df2[l]"
   ]
  },
  {
   "cell_type": "code",
   "execution_count": 143,
   "metadata": {},
   "outputs": [],
   "source": [
    "df2 = df2.rename(columns = {'state_DATA':'state', 'district_DATA':'district', 'block_DATA':'block', 'state_dist_DATA':'state_dist'})"
   ]
  },
  {
   "cell_type": "code",
   "execution_count": 145,
   "metadata": {},
   "outputs": [],
   "source": [
    "df2.to_csv(Path.joinpath(processed_data_path, \"pmgsy_lgd.csv\"), index=False)"
   ]
  },
  {
   "cell_type": "code",
   "execution_count": null,
   "metadata": {},
   "outputs": [],
   "source": []
  }
 ],
 "metadata": {
  "interpreter": {
   "hash": "a09e2b970767d0be2f332117f45685007d2c8ec89818e216477a3461de0aaaa8"
  },
  "kernelspec": {
   "display_name": "Python 3.7.6 ('.venv': poetry)",
   "language": "python",
   "name": "python3"
  },
  "language_info": {
   "codemirror_mode": {
    "name": "ipython",
    "version": 3
   },
   "file_extension": ".py",
   "mimetype": "text/x-python",
   "name": "python",
   "nbconvert_exporter": "python",
   "pygments_lexer": "ipython3",
   "version": "3.7.6"
  },
  "orig_nbformat": 4
 },
 "nbformat": 4,
 "nbformat_minor": 2
}
