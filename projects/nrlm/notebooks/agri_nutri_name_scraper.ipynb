{
 "cells": [
  {
   "cell_type": "code",
   "execution_count": 40,
   "metadata": {},
   "outputs": [],
   "source": [
    "import json\n",
    "from pathlib import Path\n",
    "import pandas as pd\n",
    "import lxml\n",
    "import selenium\n"
   ]
  },
  {
   "cell_type": "code",
   "execution_count": 41,
   "metadata": {},
   "outputs": [],
   "source": [
    "\n",
    "from selenium import webdriver\n",
    "from selenium.common.exceptions import (\n",
    "    NoSuchElementException,\n",
    "    TimeoutException,\n",
    "    WebDriverException,\n",
    ")\n",
    "from selenium.webdriver.common.by import By\n",
    "from selenium.webdriver.support.ui import Select\n",
    "from webdriver_manager.chrome import ChromeDriverManager"
   ]
  },
  {
   "cell_type": "code",
   "execution_count": 42,
   "metadata": {},
   "outputs": [],
   "source": [
    "dir_path = Path.cwd()\n",
    "interim_path = Path.joinpath(dir_path, \"data\", \"interim\")\n",
    "external_path = Path.joinpath(dir_path, \"data\", \"external\")\n",
    "raw_path = Path.joinpath(dir_path, \"data\", \"raw\")"
   ]
  },
  {
   "cell_type": "code",
   "execution_count": 46,
   "metadata": {},
   "outputs": [
    {
     "name": "stderr",
     "output_type": "stream",
     "text": [
      "\n",
      "\n",
      "====== WebDriver manager ======\n",
      "Current google-chrome version is 102.0.5005\n",
      "Get LATEST chromedriver version for 102.0.5005 google-chrome\n",
      "Driver [C:\\Users\\gohal\\.wdm\\drivers\\chromedriver\\win32\\102.0.5005.61\\chromedriver.exe] found in cache\n",
      "c:\\Users\\gohal\\Desktop\\Coding\\bipp-datasets\\projects\\nrlm\\.venv\\lib\\site-packages\\ipykernel_launcher.py:10: DeprecationWarning: executable_path has been deprecated, please pass in a Service object\n",
      "  # Remove the CWD from sys.path while we load stuff.\n"
     ]
    }
   ],
   "source": [
    "chrome_options = webdriver.ChromeOptions()\n",
    "prefs = {\n",
    "    \"download.default_directory\": str(dir_path),\n",
    "    \"profile.default_content_setting_values.automatic_downloads\": 1,\n",
    "}\n",
    "chrome_options.add_experimental_option(\"prefs\", prefs)\n",
    "chrome_options.add_argument(\"start-maximized\")\n",
    "\n",
    "driver = webdriver.Chrome(\n",
    "    ChromeDriverManager().install(), options=chrome_options\n",
    ")\n",
    "url = \"https://nrlm.gov.in/AgriNutiGardenAction.do?methodName=showView\"\n",
    "driver.get(url)\n",
    "driver.implicitly_wait(5)"
   ]
  },
  {
   "cell_type": "code",
   "execution_count": 47,
   "metadata": {},
   "outputs": [
    {
     "name": "stderr",
     "output_type": "stream",
     "text": [
      "c:\\Users\\gohal\\Desktop\\Coding\\bipp-datasets\\projects\\nrlm\\.venv\\lib\\site-packages\\ipykernel_launcher.py:1: DeprecationWarning: find_elements_by_xpath is deprecated. Please use find_elements(by=By.XPATH, value=xpath) instead\n",
      "  \"\"\"Entry point for launching an IPython kernel.\n"
     ]
    }
   ],
   "source": [
    "states = driver.find_elements_by_xpath(\"//table[@id='example']/tbody/tr/td[2]\")\n",
    "state_name = []\n",
    "for i in range(0,len(states)):\n",
    "    state_name.append(states[i].text)\n",
    "state_buttons = driver.find_elements(\n",
    "    By.XPATH, \"//button[@class='idEditButton']\"\n",
    ")"
   ]
  },
  {
   "cell_type": "code",
   "execution_count": 48,
   "metadata": {},
   "outputs": [],
   "source": [
    "for i in state_buttons:\n",
    "    i.click()\n",
    "    driver.implicitly_wait(10)\n",
    "    district_name = []\n",
    "    districts = driver.find_elements_by_xpath(\"//table[@id='example']/tbody/tr/td[2]\")\n",
    "    for i in districts:\n",
    "        if(NoSuchElementException==False):\n",
    "            district_name.append(i.text)\n",
    "            driver.implicitly_wait(5)\n",
    "    back = driver.find_element(By.XPATH, \"//div[4]/form/div/div[2]/div\")\n",
    "    back.click()\n",
    "    "
   ]
  },
  {
   "cell_type": "code",
   "execution_count": 51,
   "metadata": {},
   "outputs": [
    {
     "data": {
      "text/plain": [
       "[<selenium.webdriver.remote.webelement.WebElement (session=\"d3654539d6335e194a1d97b0dd7ec489\", element=\"81b9d983-1a9f-472d-90be-a6fcd099bc3c\")>,\n",
       " <selenium.webdriver.remote.webelement.WebElement (session=\"d3654539d6335e194a1d97b0dd7ec489\", element=\"7e20be14-e9db-4c8a-a3ea-b4d25d004db5\")>]"
      ]
     },
     "execution_count": 51,
     "metadata": {},
     "output_type": "execute_result"
    }
   ],
   "source": [
    "districts"
   ]
  },
  {
   "cell_type": "code",
   "execution_count": null,
   "metadata": {},
   "outputs": [],
   "source": []
  }
 ],
 "metadata": {
  "interpreter": {
   "hash": "66fa2d0298cd6ace7f601ff32dc5678712e0d1e469ac49de9d195690c2602d2d"
  },
  "kernelspec": {
   "display_name": "Python 3.7.6 ('.venv': poetry)",
   "language": "python",
   "name": "python3"
  },
  "language_info": {
   "codemirror_mode": {
    "name": "ipython",
    "version": 3
   },
   "file_extension": ".py",
   "mimetype": "text/x-python",
   "name": "python",
   "nbconvert_exporter": "python",
   "pygments_lexer": "ipython3",
   "version": "3.7.6"
  },
  "orig_nbformat": 4
 },
 "nbformat": 4,
 "nbformat_minor": 2
}
