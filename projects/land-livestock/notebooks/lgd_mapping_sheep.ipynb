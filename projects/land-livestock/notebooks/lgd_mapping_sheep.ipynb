{
 "cells": [
  {
   "cell_type": "code",
   "execution_count": 2,
   "metadata": {},
   "outputs": [
    {
     "name": "stderr",
     "output_type": "stream",
     "text": [
      "C:\\Users\\gohal\\Desktop\\Coding\\bipp-datasets\\.venv\\lib\\site-packages\\fuzzywuzzy\\fuzz.py:11: UserWarning: Using slow pure-python SequenceMatcher. Install python-Levenshtein to remove this warning\n",
      "  warnings.warn('Using slow pure-python SequenceMatcher. Install python-Levenshtein to remove this warning')\n"
     ]
    }
   ],
   "source": [
    "from pathlib import Path\n",
    "import pandas as pd\n",
    "from fuzzywuzzy import process"
   ]
  },
  {
   "cell_type": "code",
   "execution_count": 3,
   "metadata": {},
   "outputs": [],
   "source": [
    "dir_path = Path.cwd()\n",
    "raw_data_path = Path.joinpath(dir_path, \"data\", \"raw\")\n",
    "interim_data_path = Path.joinpath(dir_path, \"data\", \"interim\")\n",
    "processed_data_path = Path.joinpath(dir_path, \"data\", \"processed\")\n",
    "ext_data_path = Path.joinpath(dir_path, \"data\", \"external\")"
   ]
  },
  {
   "cell_type": "code",
   "execution_count": 3,
   "metadata": {},
   "outputs": [],
   "source": [
    "lgd = pd.read_csv(Path.joinpath(ext_data_path, \"lgd_district.csv\"))"
   ]
  },
  {
   "cell_type": "code",
   "execution_count": 4,
   "metadata": {},
   "outputs": [],
   "source": [
    "lgd.drop([\"St_Cs2011_code\",\"St_Cs2001_code\",\"Dt_Cs2011_code\", \"Dt_Cs2001_code\"], axis=1, inplace=True)\n"
   ]
  },
  {
   "cell_type": "code",
   "execution_count": 5,
   "metadata": {},
   "outputs": [],
   "source": [
    "lgd = lgd.rename(\n",
    "    columns={\n",
    "        \"State Name(In English)\": \"state\",\n",
    "        \"District Name(In English)\": \"district\",\n",
    "    }\n",
    ")"
   ]
  },
  {
   "cell_type": "code",
   "execution_count": 6,
   "metadata": {},
   "outputs": [
    {
     "name": "stderr",
     "output_type": "stream",
     "text": [
      "C:\\Users\\gohal\\Desktop\\Coding\\bipp-datasets\\.venv\\lib\\site-packages\\ipykernel_launcher.py:3: SettingWithCopyWarning: \n",
      "A value is trying to be set on a copy of a slice from a DataFrame\n",
      "\n",
      "See the caveats in the documentation: https://pandas.pydata.org/pandas-docs/stable/user_guide/indexing.html#returning-a-view-versus-a-copy\n",
      "  This is separate from the ipykernel package so we can avoid doing imports until\n"
     ]
    }
   ],
   "source": [
    "lgd[\"state_dist\"] = \"\"\n",
    "for i in range(0, 734):\n",
    "    lgd[\"state_dist\"][i] = lgd[\"state\"][i].rstrip() + lgd[\"district\"][i]"
   ]
  },
  {
   "cell_type": "code",
   "execution_count": 7,
   "metadata": {},
   "outputs": [
    {
     "data": {
      "text/html": [
       "<div>\n",
       "<style scoped>\n",
       "    .dataframe tbody tr th:only-of-type {\n",
       "        vertical-align: middle;\n",
       "    }\n",
       "\n",
       "    .dataframe tbody tr th {\n",
       "        vertical-align: top;\n",
       "    }\n",
       "\n",
       "    .dataframe thead th {\n",
       "        text-align: right;\n",
       "    }\n",
       "</style>\n",
       "<table border=\"1\" class=\"dataframe\">\n",
       "  <thead>\n",
       "    <tr style=\"text-align: right;\">\n",
       "      <th></th>\n",
       "      <th>St_LGD_code</th>\n",
       "      <th>state</th>\n",
       "      <th>Dt_LGD_code</th>\n",
       "      <th>district</th>\n",
       "      <th>state_dist</th>\n",
       "    </tr>\n",
       "  </thead>\n",
       "  <tbody>\n",
       "    <tr>\n",
       "      <th>0</th>\n",
       "      <td>35</td>\n",
       "      <td>ANDAMAN AND NICOBAR ISLANDS</td>\n",
       "      <td>603</td>\n",
       "      <td>NICOBARS</td>\n",
       "      <td>ANDAMAN AND NICOBAR ISLANDSNICOBARS</td>\n",
       "    </tr>\n",
       "    <tr>\n",
       "      <th>1</th>\n",
       "      <td>35</td>\n",
       "      <td>ANDAMAN AND NICOBAR ISLANDS</td>\n",
       "      <td>632</td>\n",
       "      <td>NORTH AND MIDDLE ANDAMAN</td>\n",
       "      <td>ANDAMAN AND NICOBAR ISLANDSNORTH AND MIDDLE AN...</td>\n",
       "    </tr>\n",
       "    <tr>\n",
       "      <th>2</th>\n",
       "      <td>35</td>\n",
       "      <td>ANDAMAN AND NICOBAR ISLANDS</td>\n",
       "      <td>602</td>\n",
       "      <td>SOUTH ANDAMANS</td>\n",
       "      <td>ANDAMAN AND NICOBAR ISLANDSSOUTH ANDAMANS</td>\n",
       "    </tr>\n",
       "    <tr>\n",
       "      <th>3</th>\n",
       "      <td>28</td>\n",
       "      <td>ANDHRA PRADESH                                ...</td>\n",
       "      <td>502</td>\n",
       "      <td>ANANTAPUR</td>\n",
       "      <td>ANDHRA PRADESHANANTAPUR</td>\n",
       "    </tr>\n",
       "    <tr>\n",
       "      <th>4</th>\n",
       "      <td>28</td>\n",
       "      <td>ANDHRA PRADESH                                ...</td>\n",
       "      <td>503</td>\n",
       "      <td>CHITTOOR</td>\n",
       "      <td>ANDHRA PRADESHCHITTOOR</td>\n",
       "    </tr>\n",
       "    <tr>\n",
       "      <th>...</th>\n",
       "      <td>...</td>\n",
       "      <td>...</td>\n",
       "      <td>...</td>\n",
       "      <td>...</td>\n",
       "      <td>...</td>\n",
       "    </tr>\n",
       "    <tr>\n",
       "      <th>729</th>\n",
       "      <td>19</td>\n",
       "      <td>WEST BENGAL                                   ...</td>\n",
       "      <td>319</td>\n",
       "      <td>MURSHIDABAD</td>\n",
       "      <td>WEST BENGALMURSHIDABAD</td>\n",
       "    </tr>\n",
       "    <tr>\n",
       "      <th>730</th>\n",
       "      <td>19</td>\n",
       "      <td>WEST BENGAL                                   ...</td>\n",
       "      <td>320</td>\n",
       "      <td>NADIA</td>\n",
       "      <td>WEST BENGALNADIA</td>\n",
       "    </tr>\n",
       "    <tr>\n",
       "      <th>731</th>\n",
       "      <td>19</td>\n",
       "      <td>WEST BENGAL                                   ...</td>\n",
       "      <td>704</td>\n",
       "      <td>PASCHIM BARDHAMAN</td>\n",
       "      <td>WEST BENGALPASCHIM BARDHAMAN</td>\n",
       "    </tr>\n",
       "    <tr>\n",
       "      <th>732</th>\n",
       "      <td>19</td>\n",
       "      <td>WEST BENGAL                                   ...</td>\n",
       "      <td>306</td>\n",
       "      <td>PURBA BARDHAMAN</td>\n",
       "      <td>WEST BENGALPURBA BARDHAMAN</td>\n",
       "    </tr>\n",
       "    <tr>\n",
       "      <th>733</th>\n",
       "      <td>19</td>\n",
       "      <td>WEST BENGAL                                   ...</td>\n",
       "      <td>321</td>\n",
       "      <td>PURULIA</td>\n",
       "      <td>WEST BENGALPURULIA</td>\n",
       "    </tr>\n",
       "  </tbody>\n",
       "</table>\n",
       "<p>734 rows × 5 columns</p>\n",
       "</div>"
      ],
      "text/plain": [
       "     St_LGD_code                                              state  \\\n",
       "0             35     ANDAMAN AND NICOBAR ISLANDS                      \n",
       "1             35     ANDAMAN AND NICOBAR ISLANDS                      \n",
       "2             35     ANDAMAN AND NICOBAR ISLANDS                      \n",
       "3             28  ANDHRA PRADESH                                ...   \n",
       "4             28  ANDHRA PRADESH                                ...   \n",
       "..           ...                                                ...   \n",
       "729           19  WEST BENGAL                                   ...   \n",
       "730           19  WEST BENGAL                                   ...   \n",
       "731           19  WEST BENGAL                                   ...   \n",
       "732           19  WEST BENGAL                                   ...   \n",
       "733           19  WEST BENGAL                                   ...   \n",
       "\n",
       "     Dt_LGD_code                  district  \\\n",
       "0            603                  NICOBARS   \n",
       "1            632  NORTH AND MIDDLE ANDAMAN   \n",
       "2            602            SOUTH ANDAMANS   \n",
       "3            502                 ANANTAPUR   \n",
       "4            503                  CHITTOOR   \n",
       "..           ...                       ...   \n",
       "729          319               MURSHIDABAD   \n",
       "730          320                     NADIA   \n",
       "731          704         PASCHIM BARDHAMAN   \n",
       "732          306           PURBA BARDHAMAN   \n",
       "733          321                   PURULIA   \n",
       "\n",
       "                                            state_dist  \n",
       "0                  ANDAMAN AND NICOBAR ISLANDSNICOBARS  \n",
       "1    ANDAMAN AND NICOBAR ISLANDSNORTH AND MIDDLE AN...  \n",
       "2            ANDAMAN AND NICOBAR ISLANDSSOUTH ANDAMANS  \n",
       "3                              ANDHRA PRADESHANANTAPUR  \n",
       "4                               ANDHRA PRADESHCHITTOOR  \n",
       "..                                                 ...  \n",
       "729                             WEST BENGALMURSHIDABAD  \n",
       "730                                   WEST BENGALNADIA  \n",
       "731                       WEST BENGALPASCHIM BARDHAMAN  \n",
       "732                         WEST BENGALPURBA BARDHAMAN  \n",
       "733                                 WEST BENGALPURULIA  \n",
       "\n",
       "[734 rows x 5 columns]"
      ]
     },
     "execution_count": 7,
     "metadata": {},
     "output_type": "execute_result"
    }
   ],
   "source": [
    "lgd"
   ]
  },
  {
   "cell_type": "code",
   "execution_count": 8,
   "metadata": {},
   "outputs": [],
   "source": [
    "sheep = pd.read_csv(Path.joinpath(processed_data_path, \"sheep.csv\"))"
   ]
  },
  {
   "cell_type": "code",
   "execution_count": 9,
   "metadata": {},
   "outputs": [
    {
     "data": {
      "text/plain": [
       "(1260, 6)"
      ]
     },
     "execution_count": 9,
     "metadata": {},
     "output_type": "execute_result"
    }
   ],
   "source": [
    "sheep.shape"
   ]
  },
  {
   "cell_type": "code",
   "execution_count": 10,
   "metadata": {},
   "outputs": [
    {
     "name": "stderr",
     "output_type": "stream",
     "text": [
      "C:\\Users\\gohal\\Desktop\\Coding\\bipp-datasets\\.venv\\lib\\site-packages\\ipykernel_launcher.py:5: SettingWithCopyWarning: \n",
      "A value is trying to be set on a copy of a slice from a DataFrame\n",
      "\n",
      "See the caveats in the documentation: https://pandas.pydata.org/pandas-docs/stable/user_guide/indexing.html#returning-a-view-versus-a-copy\n",
      "  \"\"\"\n",
      "C:\\Users\\gohal\\Desktop\\Coding\\bipp-datasets\\.venv\\lib\\site-packages\\ipykernel_launcher.py:3: SettingWithCopyWarning: \n",
      "A value is trying to be set on a copy of a slice from a DataFrame\n",
      "\n",
      "See the caveats in the documentation: https://pandas.pydata.org/pandas-docs/stable/user_guide/indexing.html#returning-a-view-versus-a-copy\n",
      "  This is separate from the ipykernel package so we can avoid doing imports until\n",
      "C:\\Users\\gohal\\Desktop\\Coding\\bipp-datasets\\.venv\\lib\\site-packages\\ipykernel_launcher.py:13: SettingWithCopyWarning: \n",
      "A value is trying to be set on a copy of a slice from a DataFrame\n",
      "\n",
      "See the caveats in the documentation: https://pandas.pydata.org/pandas-docs/stable/user_guide/indexing.html#returning-a-view-versus-a-copy\n",
      "  del sys.path[0]\n",
      "C:\\Users\\gohal\\Desktop\\Coding\\bipp-datasets\\.venv\\lib\\site-packages\\ipykernel_launcher.py:7: SettingWithCopyWarning: \n",
      "A value is trying to be set on a copy of a slice from a DataFrame\n",
      "\n",
      "See the caveats in the documentation: https://pandas.pydata.org/pandas-docs/stable/user_guide/indexing.html#returning-a-view-versus-a-copy\n",
      "  import sys\n",
      "C:\\Users\\gohal\\Desktop\\Coding\\bipp-datasets\\.venv\\lib\\site-packages\\ipykernel_launcher.py:9: SettingWithCopyWarning: \n",
      "A value is trying to be set on a copy of a slice from a DataFrame\n",
      "\n",
      "See the caveats in the documentation: https://pandas.pydata.org/pandas-docs/stable/user_guide/indexing.html#returning-a-view-versus-a-copy\n",
      "  if __name__ == '__main__':\n",
      "C:\\Users\\gohal\\Desktop\\Coding\\bipp-datasets\\.venv\\lib\\site-packages\\ipykernel_launcher.py:11: SettingWithCopyWarning: \n",
      "A value is trying to be set on a copy of a slice from a DataFrame\n",
      "\n",
      "See the caveats in the documentation: https://pandas.pydata.org/pandas-docs/stable/user_guide/indexing.html#returning-a-view-versus-a-copy\n",
      "  # This is added back by InteractiveShellApp.init_path()\n",
      "C:\\Users\\gohal\\Desktop\\Coding\\bipp-datasets\\.venv\\lib\\site-packages\\ipykernel_launcher.py:19: SettingWithCopyWarning: \n",
      "A value is trying to be set on a copy of a slice from a DataFrame\n",
      "\n",
      "See the caveats in the documentation: https://pandas.pydata.org/pandas-docs/stable/user_guide/indexing.html#returning-a-view-versus-a-copy\n",
      "C:\\Users\\gohal\\Desktop\\Coding\\bipp-datasets\\.venv\\lib\\site-packages\\ipykernel_launcher.py:23: SettingWithCopyWarning: \n",
      "A value is trying to be set on a copy of a slice from a DataFrame\n",
      "\n",
      "See the caveats in the documentation: https://pandas.pydata.org/pandas-docs/stable/user_guide/indexing.html#returning-a-view-versus-a-copy\n",
      "C:\\Users\\gohal\\Desktop\\Coding\\bipp-datasets\\.venv\\lib\\site-packages\\ipykernel_launcher.py:25: SettingWithCopyWarning: \n",
      "A value is trying to be set on a copy of a slice from a DataFrame\n",
      "\n",
      "See the caveats in the documentation: https://pandas.pydata.org/pandas-docs/stable/user_guide/indexing.html#returning-a-view-versus-a-copy\n",
      "C:\\Users\\gohal\\Desktop\\Coding\\bipp-datasets\\.venv\\lib\\site-packages\\ipykernel_launcher.py:37: SettingWithCopyWarning: \n",
      "A value is trying to be set on a copy of a slice from a DataFrame\n",
      "\n",
      "See the caveats in the documentation: https://pandas.pydata.org/pandas-docs/stable/user_guide/indexing.html#returning-a-view-versus-a-copy\n",
      "C:\\Users\\gohal\\Desktop\\Coding\\bipp-datasets\\.venv\\lib\\site-packages\\ipykernel_launcher.py:15: SettingWithCopyWarning: \n",
      "A value is trying to be set on a copy of a slice from a DataFrame\n",
      "\n",
      "See the caveats in the documentation: https://pandas.pydata.org/pandas-docs/stable/user_guide/indexing.html#returning-a-view-versus-a-copy\n",
      "  from ipykernel import kernelapp as app\n",
      "C:\\Users\\gohal\\Desktop\\Coding\\bipp-datasets\\.venv\\lib\\site-packages\\ipykernel_launcher.py:17: SettingWithCopyWarning: \n",
      "A value is trying to be set on a copy of a slice from a DataFrame\n",
      "\n",
      "See the caveats in the documentation: https://pandas.pydata.org/pandas-docs/stable/user_guide/indexing.html#returning-a-view-versus-a-copy\n",
      "C:\\Users\\gohal\\Desktop\\Coding\\bipp-datasets\\.venv\\lib\\site-packages\\ipykernel_launcher.py:29: SettingWithCopyWarning: \n",
      "A value is trying to be set on a copy of a slice from a DataFrame\n",
      "\n",
      "See the caveats in the documentation: https://pandas.pydata.org/pandas-docs/stable/user_guide/indexing.html#returning-a-view-versus-a-copy\n",
      "C:\\Users\\gohal\\Desktop\\Coding\\bipp-datasets\\.venv\\lib\\site-packages\\ipykernel_launcher.py:27: SettingWithCopyWarning: \n",
      "A value is trying to be set on a copy of a slice from a DataFrame\n",
      "\n",
      "See the caveats in the documentation: https://pandas.pydata.org/pandas-docs/stable/user_guide/indexing.html#returning-a-view-versus-a-copy\n",
      "C:\\Users\\gohal\\Desktop\\Coding\\bipp-datasets\\.venv\\lib\\site-packages\\ipykernel_launcher.py:31: SettingWithCopyWarning: \n",
      "A value is trying to be set on a copy of a slice from a DataFrame\n",
      "\n",
      "See the caveats in the documentation: https://pandas.pydata.org/pandas-docs/stable/user_guide/indexing.html#returning-a-view-versus-a-copy\n",
      "C:\\Users\\gohal\\Desktop\\Coding\\bipp-datasets\\.venv\\lib\\site-packages\\ipykernel_launcher.py:33: SettingWithCopyWarning: \n",
      "A value is trying to be set on a copy of a slice from a DataFrame\n",
      "\n",
      "See the caveats in the documentation: https://pandas.pydata.org/pandas-docs/stable/user_guide/indexing.html#returning-a-view-versus-a-copy\n",
      "C:\\Users\\gohal\\Desktop\\Coding\\bipp-datasets\\.venv\\lib\\site-packages\\ipykernel_launcher.py:35: SettingWithCopyWarning: \n",
      "A value is trying to be set on a copy of a slice from a DataFrame\n",
      "\n",
      "See the caveats in the documentation: https://pandas.pydata.org/pandas-docs/stable/user_guide/indexing.html#returning-a-view-versus-a-copy\n"
     ]
    }
   ],
   "source": [
    "for i in range(0, 1260):\n",
    "    if (sheep['district_name'][i].upper() == 'SORAIDEU'):\n",
    "        sheep['district_name'][i] = 'CHARAIDEO'\n",
    "    if (sheep['district_name'][i].upper() == 'SIBSAGAR'):\n",
    "        sheep['district_name'][i] = 'SIVASAGAR'\n",
    "    if (sheep['district_name'][i].upper() == 'MEWAT'):\n",
    "        sheep['district_name'][i] = 'NUH'\n",
    "    if (sheep['district_name'][i].upper() == 'KARGIL'):\n",
    "        sheep['state_name'][i] = 'LADAKH'\n",
    "    if (sheep['district_name'][i].upper() == 'LEH LADAKH'):\n",
    "        sheep['state_name'][i] = 'LADAKH'\n",
    "    if (sheep['district_name'][i].upper() == 'DADRA AND NAGAR HAVELI'):\n",
    "        sheep['state_name'][i] = 'THE DADRA AND NAGAR HAVELI AND DAMAN AND DIU'\n",
    "    if (sheep['district_name'][i].upper() == 'GULBARGA'):\n",
    "        sheep['district_name'][i] = 'KALABURAGI'\n",
    "    if (sheep['district_name'][i].upper() == 'MYSORE'):\n",
    "        sheep['district_name'][i] = 'MYSURU'\n",
    "    if (sheep['district_name'][i].upper() == 'BANGALORE RURAL'):\n",
    "        sheep['district_name'][i] = 'BENGALURU RURAL'\n",
    "    if (sheep['district_name'][i].upper() == 'SORAIDEU'):\n",
    "        sheep['district_name'][i] = 'CHARAIDEO'\n",
    "    if (sheep['district_name'][i].upper() == 'BELGAUM'):\n",
    "        sheep['district_name'][i] = 'BELAGAVI'\n",
    "    if (sheep['district_name'][i].upper() == 'BELLARY'):\n",
    "        sheep['district_name'][i] = 'BALLARI'\n",
    "    if (sheep['district_name'][i].upper() in 'NAWANSHAHR (SBS NAGAR)'):\n",
    "        sheep['district_name'][i] = 'SHAHID BHAGAT SINGH NAGAR'\n",
    "    if (sheep['district_name'][i].upper() == 'MUKTSAR'):\n",
    "        sheep['district_name'][i] = 'SRI MUKTSAR SAHIB'\n",
    "    if (sheep['district_name'][i].upper() == 'ALLAHABAD'):\n",
    "        sheep['district_name'][i] = 'PRAYAGRAJ'\n",
    "    if (sheep['district_name'][i].upper() == 'SANT RAVIDAS NAGAR'):\n",
    "        sheep['district_name'][i] = 'BHADOHI'\n",
    "    if (sheep['district_name'][i].upper() == 'BARDHAMAN'):\n",
    "        sheep['district_name'][i] = 'PURBA BARDHAMAN'\n",
    "    if (sheep['district_name'][i].upper() == 'BIJAPUR') and (sheep['state_name'][i].upper() == 'KARNATAKA'):\n",
    "        sheep['district_name'][i] = 'VIJAYAPURA' "
   ]
  },
  {
   "cell_type": "code",
   "execution_count": 11,
   "metadata": {},
   "outputs": [],
   "source": [
    "sheep[\"state_name\"] = sheep[\"state_name\"].str.upper()\n",
    "sheep[\"district_name\"] = sheep[\"district_name\"].str.upper()"
   ]
  },
  {
   "cell_type": "code",
   "execution_count": 12,
   "metadata": {},
   "outputs": [],
   "source": [
    "sheep['state_dist']  = sheep['state_name'] + sheep['district_name']"
   ]
  },
  {
   "cell_type": "code",
   "execution_count": 13,
   "metadata": {},
   "outputs": [],
   "source": [
    "b1 = pd.merge(\n",
    "            sheep,\n",
    "            lgd,\n",
    "            how=\"outer\",\n",
    "            left_on=\"state_dist\",\n",
    "            right_on=\"state_dist\",\n",
    "            validate=\"m:1\",\n",
    "            indicator=True,\n",
    "            suffixes=[\"_DATA\", \"_LGD\"],\n",
    "        )"
   ]
  },
  {
   "cell_type": "code",
   "execution_count": 14,
   "metadata": {},
   "outputs": [
    {
     "data": {
      "text/plain": [
       "both          1181\n",
       "right_only      96\n",
       "left_only       79\n",
       "Name: _merge, dtype: int64"
      ]
     },
     "execution_count": 14,
     "metadata": {},
     "output_type": "execute_result"
    }
   ],
   "source": [
    "b1['_merge'].value_counts()"
   ]
  },
  {
   "cell_type": "code",
   "execution_count": 15,
   "metadata": {},
   "outputs": [],
   "source": [
    "not_lgd_mapped = b1[(b1[\"_merge\"] == \"left_only\")][\n",
    "            [\n",
    "                \"state_name\",\n",
    "                \"district_name\",\n",
    "                \"state_dist\",\n",
    "            ]\n",
    "        ]"
   ]
  },
  {
   "cell_type": "code",
   "execution_count": 16,
   "metadata": {},
   "outputs": [],
   "source": [
    "not_lgd_mapped = not_lgd_mapped.drop_duplicates(subset=\"state_dist\")"
   ]
  },
  {
   "cell_type": "code",
   "execution_count": 17,
   "metadata": {},
   "outputs": [],
   "source": [
    "result = [\n",
    "            process.extractOne(i, lgd[\"state_dist\"])\n",
    "            for i in not_lgd_mapped[\"state_dist\"]\n",
    "        ]\n",
    "result = pd.DataFrame(result, columns=[\"match\", \"score\", \"id\"])\n",
    "result.drop(\"id\", axis=1, inplace=True)"
   ]
  },
  {
   "cell_type": "code",
   "execution_count": 18,
   "metadata": {},
   "outputs": [
    {
     "data": {
      "text/html": [
       "<div>\n",
       "<style scoped>\n",
       "    .dataframe tbody tr th:only-of-type {\n",
       "        vertical-align: middle;\n",
       "    }\n",
       "\n",
       "    .dataframe tbody tr th {\n",
       "        vertical-align: top;\n",
       "    }\n",
       "\n",
       "    .dataframe thead th {\n",
       "        text-align: right;\n",
       "    }\n",
       "</style>\n",
       "<table border=\"1\" class=\"dataframe\">\n",
       "  <thead>\n",
       "    <tr style=\"text-align: right;\">\n",
       "      <th></th>\n",
       "      <th>match</th>\n",
       "      <th>score</th>\n",
       "    </tr>\n",
       "  </thead>\n",
       "  <tbody>\n",
       "    <tr>\n",
       "      <th>0</th>\n",
       "      <td>ANDAMAN AND NICOBAR ISLANDSSOUTH ANDAMANS</td>\n",
       "      <td>98</td>\n",
       "    </tr>\n",
       "    <tr>\n",
       "      <th>1</th>\n",
       "      <td>ASSAMKAMRUP</td>\n",
       "      <td>95</td>\n",
       "    </tr>\n",
       "    <tr>\n",
       "      <th>2</th>\n",
       "      <td>ASSAMMARIGAON</td>\n",
       "      <td>92</td>\n",
       "    </tr>\n",
       "    <tr>\n",
       "      <th>3</th>\n",
       "      <td>ASSAMSOUTH SALMARA MANCACHAR</td>\n",
       "      <td>90</td>\n",
       "    </tr>\n",
       "    <tr>\n",
       "      <th>4</th>\n",
       "      <td>CHHATTISGARHKABIRDHAM</td>\n",
       "      <td>95</td>\n",
       "    </tr>\n",
       "    <tr>\n",
       "      <th>5</th>\n",
       "      <td>THE DADRA AND NAGAR HAVELI AND DAMAN AND DIUDIU</td>\n",
       "      <td>90</td>\n",
       "    </tr>\n",
       "    <tr>\n",
       "      <th>6</th>\n",
       "      <td>GUJARATMahisagar</td>\n",
       "      <td>100</td>\n",
       "    </tr>\n",
       "    <tr>\n",
       "      <th>7</th>\n",
       "      <td>JAMMU AND KASHMIRBudgam</td>\n",
       "      <td>96</td>\n",
       "    </tr>\n",
       "    <tr>\n",
       "      <th>8</th>\n",
       "      <td>JAMMU AND KASHMIRRAJOURI</td>\n",
       "      <td>96</td>\n",
       "    </tr>\n",
       "    <tr>\n",
       "      <th>9</th>\n",
       "      <td>KARNATAKABAGALKOTE</td>\n",
       "      <td>97</td>\n",
       "    </tr>\n",
       "    <tr>\n",
       "      <th>10</th>\n",
       "      <td>KARNATAKACHAMARAJANAGARA</td>\n",
       "      <td>98</td>\n",
       "    </tr>\n",
       "    <tr>\n",
       "      <th>11</th>\n",
       "      <td>KARNATAKACHIKKABALLAPURA</td>\n",
       "      <td>93</td>\n",
       "    </tr>\n",
       "    <tr>\n",
       "      <th>12</th>\n",
       "      <td>KARNATAKACHIKKAMAGALURU</td>\n",
       "      <td>93</td>\n",
       "    </tr>\n",
       "    <tr>\n",
       "      <th>13</th>\n",
       "      <td>KARNATAKADAKSHINA KANNADA</td>\n",
       "      <td>96</td>\n",
       "    </tr>\n",
       "    <tr>\n",
       "      <th>14</th>\n",
       "      <td>KARNATAKASHIVAMOGGA</td>\n",
       "      <td>91</td>\n",
       "    </tr>\n",
       "    <tr>\n",
       "      <th>15</th>\n",
       "      <td>KARNATAKATUMAKURU</td>\n",
       "      <td>94</td>\n",
       "    </tr>\n",
       "    <tr>\n",
       "      <th>16</th>\n",
       "      <td>KARNATAKAUTTARA KANNADA</td>\n",
       "      <td>95</td>\n",
       "    </tr>\n",
       "    <tr>\n",
       "      <th>17</th>\n",
       "      <td>MIZORAMSAIHA</td>\n",
       "      <td>92</td>\n",
       "    </tr>\n",
       "    <tr>\n",
       "      <th>18</th>\n",
       "      <td>PUNJABShahid Bhagat Singh Nagar</td>\n",
       "      <td>100</td>\n",
       "    </tr>\n",
       "    <tr>\n",
       "      <th>19</th>\n",
       "      <td>PUNJABS.A.S Nagar</td>\n",
       "      <td>100</td>\n",
       "    </tr>\n",
       "    <tr>\n",
       "      <th>20</th>\n",
       "      <td>PUNJABTarn Taran</td>\n",
       "      <td>100</td>\n",
       "    </tr>\n",
       "    <tr>\n",
       "      <th>21</th>\n",
       "      <td>TAMIL NADUAriyalur</td>\n",
       "      <td>100</td>\n",
       "    </tr>\n",
       "    <tr>\n",
       "      <th>22</th>\n",
       "      <td>TELANGANAJagitial</td>\n",
       "      <td>100</td>\n",
       "    </tr>\n",
       "    <tr>\n",
       "      <th>23</th>\n",
       "      <td>TELANGANAMAHABUBNAGAR</td>\n",
       "      <td>98</td>\n",
       "    </tr>\n",
       "    <tr>\n",
       "      <th>24</th>\n",
       "      <td>TELANGANANirmal</td>\n",
       "      <td>100</td>\n",
       "    </tr>\n",
       "    <tr>\n",
       "      <th>25</th>\n",
       "      <td>TELANGANARANGA REDDY</td>\n",
       "      <td>92</td>\n",
       "    </tr>\n",
       "    <tr>\n",
       "      <th>26</th>\n",
       "      <td>TRIPURADhalai</td>\n",
       "      <td>100</td>\n",
       "    </tr>\n",
       "    <tr>\n",
       "      <th>27</th>\n",
       "      <td>TRIPURAGomati</td>\n",
       "      <td>100</td>\n",
       "    </tr>\n",
       "    <tr>\n",
       "      <th>28</th>\n",
       "      <td>TRIPURAKhowai</td>\n",
       "      <td>100</td>\n",
       "    </tr>\n",
       "    <tr>\n",
       "      <th>29</th>\n",
       "      <td>TRIPURANorth Tripura</td>\n",
       "      <td>100</td>\n",
       "    </tr>\n",
       "    <tr>\n",
       "      <th>30</th>\n",
       "      <td>TRIPURASepahijala</td>\n",
       "      <td>100</td>\n",
       "    </tr>\n",
       "    <tr>\n",
       "      <th>31</th>\n",
       "      <td>TRIPURASouth Tripura</td>\n",
       "      <td>100</td>\n",
       "    </tr>\n",
       "    <tr>\n",
       "      <th>32</th>\n",
       "      <td>TRIPURAUnakoti</td>\n",
       "      <td>100</td>\n",
       "    </tr>\n",
       "    <tr>\n",
       "      <th>33</th>\n",
       "      <td>TRIPURAWest Tripura</td>\n",
       "      <td>100</td>\n",
       "    </tr>\n",
       "    <tr>\n",
       "      <th>34</th>\n",
       "      <td>UTTAR PRADESHAmethi</td>\n",
       "      <td>100</td>\n",
       "    </tr>\n",
       "    <tr>\n",
       "      <th>35</th>\n",
       "      <td>UTTAR PRADESHFIROZABAD</td>\n",
       "      <td>93</td>\n",
       "    </tr>\n",
       "    <tr>\n",
       "      <th>36</th>\n",
       "      <td>UTTAR PRADESHKasganj</td>\n",
       "      <td>100</td>\n",
       "    </tr>\n",
       "    <tr>\n",
       "      <th>37</th>\n",
       "      <td>UTTARAKHANDRUDRA PRAYAG</td>\n",
       "      <td>98</td>\n",
       "    </tr>\n",
       "    <tr>\n",
       "      <th>38</th>\n",
       "      <td>UTTARAKHANDUDAM SINGH NAGAR</td>\n",
       "      <td>98</td>\n",
       "    </tr>\n",
       "    <tr>\n",
       "      <th>39</th>\n",
       "      <td>UTTARAKHANDUTTAR KASHI</td>\n",
       "      <td>98</td>\n",
       "    </tr>\n",
       "    <tr>\n",
       "      <th>40</th>\n",
       "      <td>WEST BENGALAlipurduar</td>\n",
       "      <td>100</td>\n",
       "    </tr>\n",
       "    <tr>\n",
       "      <th>41</th>\n",
       "      <td>WEST BENGALJhargram</td>\n",
       "      <td>100</td>\n",
       "    </tr>\n",
       "  </tbody>\n",
       "</table>\n",
       "</div>"
      ],
      "text/plain": [
       "                                              match  score\n",
       "0         ANDAMAN AND NICOBAR ISLANDSSOUTH ANDAMANS     98\n",
       "1                                       ASSAMKAMRUP     95\n",
       "2                                     ASSAMMARIGAON     92\n",
       "3                      ASSAMSOUTH SALMARA MANCACHAR     90\n",
       "4                             CHHATTISGARHKABIRDHAM     95\n",
       "5   THE DADRA AND NAGAR HAVELI AND DAMAN AND DIUDIU     90\n",
       "6                                  GUJARATMahisagar    100\n",
       "7                           JAMMU AND KASHMIRBudgam     96\n",
       "8                          JAMMU AND KASHMIRRAJOURI     96\n",
       "9                                KARNATAKABAGALKOTE     97\n",
       "10                         KARNATAKACHAMARAJANAGARA     98\n",
       "11                         KARNATAKACHIKKABALLAPURA     93\n",
       "12                          KARNATAKACHIKKAMAGALURU     93\n",
       "13                        KARNATAKADAKSHINA KANNADA     96\n",
       "14                              KARNATAKASHIVAMOGGA     91\n",
       "15                                KARNATAKATUMAKURU     94\n",
       "16                          KARNATAKAUTTARA KANNADA     95\n",
       "17                                     MIZORAMSAIHA     92\n",
       "18                  PUNJABShahid Bhagat Singh Nagar    100\n",
       "19                                PUNJABS.A.S Nagar    100\n",
       "20                                 PUNJABTarn Taran    100\n",
       "21                               TAMIL NADUAriyalur    100\n",
       "22                                TELANGANAJagitial    100\n",
       "23                            TELANGANAMAHABUBNAGAR     98\n",
       "24                                  TELANGANANirmal    100\n",
       "25                             TELANGANARANGA REDDY     92\n",
       "26                                    TRIPURADhalai    100\n",
       "27                                    TRIPURAGomati    100\n",
       "28                                    TRIPURAKhowai    100\n",
       "29                             TRIPURANorth Tripura    100\n",
       "30                                TRIPURASepahijala    100\n",
       "31                             TRIPURASouth Tripura    100\n",
       "32                                   TRIPURAUnakoti    100\n",
       "33                              TRIPURAWest Tripura    100\n",
       "34                              UTTAR PRADESHAmethi    100\n",
       "35                           UTTAR PRADESHFIROZABAD     93\n",
       "36                             UTTAR PRADESHKasganj    100\n",
       "37                          UTTARAKHANDRUDRA PRAYAG     98\n",
       "38                      UTTARAKHANDUDAM SINGH NAGAR     98\n",
       "39                           UTTARAKHANDUTTAR KASHI     98\n",
       "40                            WEST BENGALAlipurduar    100\n",
       "41                              WEST BENGALJhargram    100"
      ]
     },
     "execution_count": 18,
     "metadata": {},
     "output_type": "execute_result"
    }
   ],
   "source": [
    "result"
   ]
  },
  {
   "cell_type": "code",
   "execution_count": 19,
   "metadata": {},
   "outputs": [],
   "source": [
    "not_lgd_proxy_df = (\n",
    "                pd.DataFrame(not_lgd_mapped[\"state_dist\"], index=None)\n",
    "                .reset_index()\n",
    "                .drop(\"index\", axis=1)\n",
    "        )"
   ]
  },
  {
   "cell_type": "code",
   "execution_count": 20,
   "metadata": {},
   "outputs": [],
   "source": [
    "mapper_df = pd.concat(\n",
    "            [not_lgd_proxy_df, result],\n",
    "            axis=1,\n",
    "            ignore_index=True,\n",
    "            names=[\"original\", \"match\", \"score\"],\n",
    "        )"
   ]
  },
  {
   "cell_type": "code",
   "execution_count": 21,
   "metadata": {},
   "outputs": [],
   "source": [
    "mapper_df = mapper_df[mapper_df[2] >= 90]"
   ]
  },
  {
   "cell_type": "code",
   "execution_count": 22,
   "metadata": {},
   "outputs": [],
   "source": [
    "mapper_dict = dict(zip(mapper_df[0], mapper_df[1]))\n",
    "sheep[\"state_dist\"] = sheep[\"state_dist\"].replace(mapper_dict)"
   ]
  },
  {
   "cell_type": "code",
   "execution_count": 23,
   "metadata": {},
   "outputs": [],
   "source": [
    "b1 = pd.merge(\n",
    "            sheep,\n",
    "            lgd,\n",
    "            how=\"outer\",\n",
    "            left_on=\"state_dist\",\n",
    "            right_on=\"state_dist\",\n",
    "            validate=\"m:1\",\n",
    "            indicator=True,\n",
    "            suffixes=[\"_DATA\", \"_LGD\"],\n",
    "        )\n"
   ]
  },
  {
   "cell_type": "code",
   "execution_count": 24,
   "metadata": {},
   "outputs": [
    {
     "data": {
      "text/plain": [
       "both          1260\n",
       "right_only      56\n",
       "left_only        0\n",
       "Name: _merge, dtype: int64"
      ]
     },
     "execution_count": 24,
     "metadata": {},
     "output_type": "execute_result"
    }
   ],
   "source": [
    "b1[\"_merge\"].value_counts()"
   ]
  },
  {
   "cell_type": "code",
   "execution_count": 25,
   "metadata": {},
   "outputs": [],
   "source": [
    "not_lgd_mapped = b1[(b1[\"_merge\"] == \"left_only\")][\n",
    "            [\n",
    "                \"state_name\",\n",
    "                \"district_name\",\n",
    "                \"state_dist\",\n",
    "            ]\n",
    "        ]\n",
    "not_lgd_mapped = not_lgd_mapped.drop_duplicates(subset=\"state_dist\")"
   ]
  },
  {
   "cell_type": "code",
   "execution_count": 26,
   "metadata": {},
   "outputs": [
    {
     "data": {
      "text/plain": [
       "0"
      ]
     },
     "execution_count": 26,
     "metadata": {},
     "output_type": "execute_result"
    }
   ],
   "source": [
    "len(not_lgd_mapped)"
   ]
  },
  {
   "cell_type": "code",
   "execution_count": 27,
   "metadata": {},
   "outputs": [],
   "source": [
    "result = [\n",
    "            process.extractOne(i, lgd[\"state_dist\"])\n",
    "            for i in not_lgd_mapped[\"state_dist\"]\n",
    "        ]\n",
    "result = pd.DataFrame(result, columns=[\"match\", \"score\", \"id\"])\n",
    "result.drop(\"id\", axis=1, inplace=True)"
   ]
  },
  {
   "cell_type": "code",
   "execution_count": 28,
   "metadata": {},
   "outputs": [],
   "source": [
    "not_lgd_proxy_df = (\n",
    "                pd.DataFrame(not_lgd_mapped[\"state_dist\"], index=None)\n",
    "                .reset_index()\n",
    "                .drop(\"index\", axis=1)\n",
    "        )"
   ]
  },
  {
   "cell_type": "code",
   "execution_count": 29,
   "metadata": {},
   "outputs": [],
   "source": [
    "mapper_df = pd.concat(\n",
    "            [not_lgd_proxy_df, result],\n",
    "            axis=1,\n",
    "            ignore_index=True,\n",
    "            names=[\"original\", \"match\", \"score\"],\n",
    "        )"
   ]
  },
  {
   "cell_type": "code",
   "execution_count": 30,
   "metadata": {},
   "outputs": [],
   "source": [
    "mapper_df = mapper_df[mapper_df[2] >= 90]"
   ]
  },
  {
   "cell_type": "code",
   "execution_count": 31,
   "metadata": {},
   "outputs": [],
   "source": [
    "mapper_dict = dict(zip(mapper_df[0], mapper_df[1]))\n",
    "sheep[\"state_dist\"] = sheep[\"state_dist\"].replace(mapper_dict)"
   ]
  },
  {
   "cell_type": "code",
   "execution_count": 32,
   "metadata": {},
   "outputs": [],
   "source": [
    "b1 = pd.merge(\n",
    "            sheep,\n",
    "            lgd,\n",
    "            how=\"outer\",\n",
    "            left_on=\"state_dist\",\n",
    "            right_on=\"state_dist\",\n",
    "            validate=\"m:1\",\n",
    "            indicator=True,\n",
    "            suffixes=[\"_DATA\", \"_LGD\"],\n",
    "        )\n"
   ]
  },
  {
   "cell_type": "code",
   "execution_count": 33,
   "metadata": {},
   "outputs": [
    {
     "data": {
      "text/plain": [
       "both          1260\n",
       "right_only      56\n",
       "left_only        0\n",
       "Name: _merge, dtype: int64"
      ]
     },
     "execution_count": 33,
     "metadata": {},
     "output_type": "execute_result"
    }
   ],
   "source": [
    "b1[\"_merge\"].value_counts()"
   ]
  },
  {
   "cell_type": "code",
   "execution_count": 34,
   "metadata": {},
   "outputs": [],
   "source": [
    "not_lgd_mapped = b1[(b1[\"_merge\"] == \"left_only\")][\n",
    "            [\n",
    "                \"state_name\",\n",
    "                \"district_name\",\n",
    "                \"state_dist\",\n",
    "            ]\n",
    "        ]\n",
    "not_lgd_mapped = not_lgd_mapped.drop_duplicates(subset=\"state_dist\")"
   ]
  },
  {
   "cell_type": "code",
   "execution_count": 35,
   "metadata": {},
   "outputs": [
    {
     "data": {
      "text/plain": [
       "0"
      ]
     },
     "execution_count": 35,
     "metadata": {},
     "output_type": "execute_result"
    }
   ],
   "source": [
    "len(not_lgd_mapped)"
   ]
  },
  {
   "cell_type": "code",
   "execution_count": 36,
   "metadata": {},
   "outputs": [],
   "source": [
    "not_lgd_mapped.to_csv(\"sheep_unmapped.csv\")"
   ]
  },
  {
   "cell_type": "code",
   "execution_count": 50,
   "metadata": {},
   "outputs": [],
   "source": [
    "df = b1[b1['_merge']=='both']"
   ]
  },
  {
   "cell_type": "code",
   "execution_count": 51,
   "metadata": {},
   "outputs": [],
   "source": [
    "df = df.drop(['_merge','state', 'district'], axis = 1)"
   ]
  },
  {
   "cell_type": "code",
   "execution_count": 52,
   "metadata": {},
   "outputs": [
    {
     "data": {
      "text/plain": [
       "['state_name',\n",
       " 'district_name',\n",
       " 'breed_type_name',\n",
       " 'upto_one_year',\n",
       " 'one_year_and_above',\n",
       " 'total',\n",
       " 'state_dist',\n",
       " 'St_LGD_code',\n",
       " 'Dt_LGD_code']"
      ]
     },
     "execution_count": 52,
     "metadata": {},
     "output_type": "execute_result"
    }
   ],
   "source": [
    "df.columns.to_list()"
   ]
  },
  {
   "cell_type": "code",
   "execution_count": 53,
   "metadata": {},
   "outputs": [],
   "source": [
    "l = ['state_name',\n",
    " 'district_name',\n",
    " 'state_dist',\n",
    " 'St_LGD_code',\n",
    " 'Dt_LGD_code',\n",
    " 'breed_type_name',\n",
    " 'upto_one_year',\n",
    " 'one_year_and_above',\n",
    " 'total']"
   ]
  },
  {
   "cell_type": "code",
   "execution_count": 54,
   "metadata": {},
   "outputs": [],
   "source": [
    "df = df[l]"
   ]
  },
  {
   "cell_type": "code",
   "execution_count": 55,
   "metadata": {},
   "outputs": [],
   "source": [
    "df.to_csv(Path.joinpath(processed_data_path, \"sheep_lgd.csv\"), index=False)"
   ]
  },
  {
   "cell_type": "code",
   "execution_count": 56,
   "metadata": {},
   "outputs": [
    {
     "data": {
      "text/html": [
       "<div>\n",
       "<style scoped>\n",
       "    .dataframe tbody tr th:only-of-type {\n",
       "        vertical-align: middle;\n",
       "    }\n",
       "\n",
       "    .dataframe tbody tr th {\n",
       "        vertical-align: top;\n",
       "    }\n",
       "\n",
       "    .dataframe thead th {\n",
       "        text-align: right;\n",
       "    }\n",
       "</style>\n",
       "<table border=\"1\" class=\"dataframe\">\n",
       "  <thead>\n",
       "    <tr style=\"text-align: right;\">\n",
       "      <th></th>\n",
       "      <th>state_name</th>\n",
       "      <th>district_name</th>\n",
       "      <th>state_dist</th>\n",
       "      <th>St_LGD_code</th>\n",
       "      <th>Dt_LGD_code</th>\n",
       "      <th>breed_type_name</th>\n",
       "      <th>upto_one_year</th>\n",
       "      <th>one_year_and_above</th>\n",
       "      <th>total</th>\n",
       "    </tr>\n",
       "  </thead>\n",
       "  <tbody>\n",
       "    <tr>\n",
       "      <th>0</th>\n",
       "      <td>ANDAMAN AND NICOBAR ISLAN</td>\n",
       "      <td>SOUTH ANDAMANS</td>\n",
       "      <td>ANDAMAN AND NICOBAR ISLANDSSOUTH ANDAMANS</td>\n",
       "      <td>35</td>\n",
       "      <td>602</td>\n",
       "      <td>Indigenous(Desi)</td>\n",
       "      <td>2.0</td>\n",
       "      <td>3.0</td>\n",
       "      <td>5.0</td>\n",
       "    </tr>\n",
       "    <tr>\n",
       "      <th>1</th>\n",
       "      <td>ANDHRA PRADESH</td>\n",
       "      <td>ANANTAPUR</td>\n",
       "      <td>ANDHRA PRADESHANANTAPUR</td>\n",
       "      <td>28</td>\n",
       "      <td>502</td>\n",
       "      <td>Exotic</td>\n",
       "      <td>98698.0</td>\n",
       "      <td>172440.0</td>\n",
       "      <td>271138.0</td>\n",
       "    </tr>\n",
       "    <tr>\n",
       "      <th>2</th>\n",
       "      <td>ANDHRA PRADESH</td>\n",
       "      <td>ANANTAPUR</td>\n",
       "      <td>ANDHRA PRADESHANANTAPUR</td>\n",
       "      <td>28</td>\n",
       "      <td>502</td>\n",
       "      <td>Indigenous(Desi)</td>\n",
       "      <td>1505184.0</td>\n",
       "      <td>3150265.0</td>\n",
       "      <td>4655449.0</td>\n",
       "    </tr>\n",
       "    <tr>\n",
       "      <th>3</th>\n",
       "      <td>ANDHRA PRADESH</td>\n",
       "      <td>CHITTOOR</td>\n",
       "      <td>ANDHRA PRADESHCHITTOOR</td>\n",
       "      <td>28</td>\n",
       "      <td>503</td>\n",
       "      <td>Exotic</td>\n",
       "      <td>68114.0</td>\n",
       "      <td>109493.0</td>\n",
       "      <td>177607.0</td>\n",
       "    </tr>\n",
       "    <tr>\n",
       "      <th>4</th>\n",
       "      <td>ANDHRA PRADESH</td>\n",
       "      <td>CHITTOOR</td>\n",
       "      <td>ANDHRA PRADESHCHITTOOR</td>\n",
       "      <td>28</td>\n",
       "      <td>503</td>\n",
       "      <td>Indigenous(Desi)</td>\n",
       "      <td>514248.0</td>\n",
       "      <td>1004843.0</td>\n",
       "      <td>1519091.0</td>\n",
       "    </tr>\n",
       "    <tr>\n",
       "      <th>...</th>\n",
       "      <td>...</td>\n",
       "      <td>...</td>\n",
       "      <td>...</td>\n",
       "      <td>...</td>\n",
       "      <td>...</td>\n",
       "      <td>...</td>\n",
       "      <td>...</td>\n",
       "      <td>...</td>\n",
       "      <td>...</td>\n",
       "    </tr>\n",
       "    <tr>\n",
       "      <th>1255</th>\n",
       "      <td>WEST BENGAL</td>\n",
       "      <td>NADIA</td>\n",
       "      <td>WEST BENGALNADIA</td>\n",
       "      <td>19</td>\n",
       "      <td>320</td>\n",
       "      <td>Indigenous(Desi)</td>\n",
       "      <td>10026.0</td>\n",
       "      <td>11350.0</td>\n",
       "      <td>21376.0</td>\n",
       "    </tr>\n",
       "    <tr>\n",
       "      <th>1256</th>\n",
       "      <td>WEST BENGAL</td>\n",
       "      <td>PASCHIM BARDHAMAN</td>\n",
       "      <td>WEST BENGALPASCHIM BARDHAMAN</td>\n",
       "      <td>19</td>\n",
       "      <td>704</td>\n",
       "      <td>Exotic</td>\n",
       "      <td>9.0</td>\n",
       "      <td>11.0</td>\n",
       "      <td>20.0</td>\n",
       "    </tr>\n",
       "    <tr>\n",
       "      <th>1257</th>\n",
       "      <td>WEST BENGAL</td>\n",
       "      <td>PASCHIM BARDHAMAN</td>\n",
       "      <td>WEST BENGALPASCHIM BARDHAMAN</td>\n",
       "      <td>19</td>\n",
       "      <td>704</td>\n",
       "      <td>Indigenous(Desi)</td>\n",
       "      <td>2975.0</td>\n",
       "      <td>3503.0</td>\n",
       "      <td>6478.0</td>\n",
       "    </tr>\n",
       "    <tr>\n",
       "      <th>1258</th>\n",
       "      <td>WEST BENGAL</td>\n",
       "      <td>PURULIA</td>\n",
       "      <td>WEST BENGALPURULIA</td>\n",
       "      <td>19</td>\n",
       "      <td>321</td>\n",
       "      <td>Exotic</td>\n",
       "      <td>1250.0</td>\n",
       "      <td>768.0</td>\n",
       "      <td>2018.0</td>\n",
       "    </tr>\n",
       "    <tr>\n",
       "      <th>1259</th>\n",
       "      <td>WEST BENGAL</td>\n",
       "      <td>PURULIA</td>\n",
       "      <td>WEST BENGALPURULIA</td>\n",
       "      <td>19</td>\n",
       "      <td>321</td>\n",
       "      <td>Indigenous(Desi)</td>\n",
       "      <td>74251.0</td>\n",
       "      <td>110656.0</td>\n",
       "      <td>184907.0</td>\n",
       "    </tr>\n",
       "  </tbody>\n",
       "</table>\n",
       "<p>1260 rows × 9 columns</p>\n",
       "</div>"
      ],
      "text/plain": [
       "                     state_name      district_name  \\\n",
       "0     ANDAMAN AND NICOBAR ISLAN     SOUTH ANDAMANS   \n",
       "1                ANDHRA PRADESH          ANANTAPUR   \n",
       "2                ANDHRA PRADESH          ANANTAPUR   \n",
       "3                ANDHRA PRADESH           CHITTOOR   \n",
       "4                ANDHRA PRADESH           CHITTOOR   \n",
       "...                         ...                ...   \n",
       "1255                WEST BENGAL              NADIA   \n",
       "1256                WEST BENGAL  PASCHIM BARDHAMAN   \n",
       "1257                WEST BENGAL  PASCHIM BARDHAMAN   \n",
       "1258                WEST BENGAL            PURULIA   \n",
       "1259                WEST BENGAL            PURULIA   \n",
       "\n",
       "                                     state_dist  St_LGD_code  Dt_LGD_code  \\\n",
       "0     ANDAMAN AND NICOBAR ISLANDSSOUTH ANDAMANS           35          602   \n",
       "1                       ANDHRA PRADESHANANTAPUR           28          502   \n",
       "2                       ANDHRA PRADESHANANTAPUR           28          502   \n",
       "3                        ANDHRA PRADESHCHITTOOR           28          503   \n",
       "4                        ANDHRA PRADESHCHITTOOR           28          503   \n",
       "...                                         ...          ...          ...   \n",
       "1255                           WEST BENGALNADIA           19          320   \n",
       "1256               WEST BENGALPASCHIM BARDHAMAN           19          704   \n",
       "1257               WEST BENGALPASCHIM BARDHAMAN           19          704   \n",
       "1258                         WEST BENGALPURULIA           19          321   \n",
       "1259                         WEST BENGALPURULIA           19          321   \n",
       "\n",
       "       breed_type_name  upto_one_year  one_year_and_above      total  \n",
       "0     Indigenous(Desi)            2.0                 3.0        5.0  \n",
       "1               Exotic        98698.0            172440.0   271138.0  \n",
       "2     Indigenous(Desi)      1505184.0           3150265.0  4655449.0  \n",
       "3               Exotic        68114.0            109493.0   177607.0  \n",
       "4     Indigenous(Desi)       514248.0           1004843.0  1519091.0  \n",
       "...                ...            ...                 ...        ...  \n",
       "1255  Indigenous(Desi)        10026.0             11350.0    21376.0  \n",
       "1256            Exotic            9.0                11.0       20.0  \n",
       "1257  Indigenous(Desi)         2975.0              3503.0     6478.0  \n",
       "1258            Exotic         1250.0               768.0     2018.0  \n",
       "1259  Indigenous(Desi)        74251.0            110656.0   184907.0  \n",
       "\n",
       "[1260 rows x 9 columns]"
      ]
     },
     "execution_count": 56,
     "metadata": {},
     "output_type": "execute_result"
    }
   ],
   "source": [
    "df"
   ]
  },
  {
   "cell_type": "code",
   "execution_count": 46,
   "metadata": {},
   "outputs": [
    {
     "data": {
      "text/plain": [
       "(1260, 7)"
      ]
     },
     "execution_count": 46,
     "metadata": {},
     "output_type": "execute_result"
    }
   ],
   "source": [
    "sheep.shape"
   ]
  },
  {
   "cell_type": "code",
   "execution_count": 4,
   "metadata": {},
   "outputs": [],
   "source": [
    "sheep = pd.read_csv(Path.joinpath(processed_data_path, \"sheep_lgd.csv\"))"
   ]
  },
  {
   "cell_type": "code",
   "execution_count": 6,
   "metadata": {},
   "outputs": [],
   "source": [
    "sheep.drop(['state_dist'], axis = 1, inplace = True)"
   ]
  },
  {
   "cell_type": "code",
   "execution_count": 7,
   "metadata": {},
   "outputs": [],
   "source": [
    "sheep.rename(columns={'St_LGD_code':'state_lgd_code', 'Dt_LGD_code':'district_lgd_code'}, inplace = True)"
   ]
  },
  {
   "cell_type": "code",
   "execution_count": 8,
   "metadata": {},
   "outputs": [],
   "source": [
    "sheep.to_csv(Path.joinpath(processed_data_path, \"sheep_lgd.csv\"), index=False)"
   ]
  },
  {
   "cell_type": "code",
   "execution_count": null,
   "metadata": {},
   "outputs": [],
   "source": []
  }
 ],
 "metadata": {
  "interpreter": {
   "hash": "a09e2b970767d0be2f332117f45685007d2c8ec89818e216477a3461de0aaaa8"
  },
  "kernelspec": {
   "display_name": "Python 3.7.6 ('.venv': poetry)",
   "language": "python",
   "name": "python3"
  },
  "language_info": {
   "codemirror_mode": {
    "name": "ipython",
    "version": 3
   },
   "file_extension": ".py",
   "mimetype": "text/x-python",
   "name": "python",
   "nbconvert_exporter": "python",
   "pygments_lexer": "ipython3",
   "version": "3.7.6"
  },
  "orig_nbformat": 4
 },
 "nbformat": 4,
 "nbformat_minor": 2
}
