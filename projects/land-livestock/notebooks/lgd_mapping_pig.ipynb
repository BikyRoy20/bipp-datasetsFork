{
 "cells": [
  {
   "cell_type": "code",
   "execution_count": 1,
   "metadata": {},
   "outputs": [
    {
     "name": "stderr",
     "output_type": "stream",
     "text": [
      "C:\\Users\\gohal\\Desktop\\Coding\\bipp-datasets\\.venv\\lib\\site-packages\\fuzzywuzzy\\fuzz.py:11: UserWarning: Using slow pure-python SequenceMatcher. Install python-Levenshtein to remove this warning\n",
      "  warnings.warn('Using slow pure-python SequenceMatcher. Install python-Levenshtein to remove this warning')\n"
     ]
    }
   ],
   "source": [
    "from pathlib import Path\n",
    "import pandas as pd\n",
    "from fuzzywuzzy import process"
   ]
  },
  {
   "cell_type": "code",
   "execution_count": 2,
   "metadata": {},
   "outputs": [],
   "source": [
    "dir_path = Path.cwd()\n",
    "raw_data_path = Path.joinpath(dir_path, \"data\", \"raw\")\n",
    "interim_data_path = Path.joinpath(dir_path, \"data\", \"interim\")\n",
    "processed_data_path = Path.joinpath(dir_path, \"data\", \"processed\")\n",
    "ext_data_path = Path.joinpath(dir_path, \"data\", \"external\")"
   ]
  },
  {
   "cell_type": "code",
   "execution_count": 3,
   "metadata": {},
   "outputs": [],
   "source": [
    "lgd = pd.read_csv(Path.joinpath(ext_data_path, \"lgd_district.csv\"))"
   ]
  },
  {
   "cell_type": "code",
   "execution_count": 4,
   "metadata": {},
   "outputs": [],
   "source": [
    "lgd.drop([\"St_Cs2011_code\",\"St_Cs2001_code\",\"Dt_Cs2011_code\", \"Dt_Cs2001_code\"], axis=1, inplace=True)\n"
   ]
  },
  {
   "cell_type": "code",
   "execution_count": 5,
   "metadata": {},
   "outputs": [],
   "source": [
    "lgd = lgd.rename(\n",
    "    columns={\n",
    "        \"State Name(In English)\": \"state\",\n",
    "        \"District Name(In English)\": \"district\",\n",
    "    }\n",
    ")"
   ]
  },
  {
   "cell_type": "code",
   "execution_count": 6,
   "metadata": {},
   "outputs": [
    {
     "name": "stderr",
     "output_type": "stream",
     "text": [
      "C:\\Users\\gohal\\Desktop\\Coding\\bipp-datasets\\.venv\\lib\\site-packages\\ipykernel_launcher.py:3: SettingWithCopyWarning: \n",
      "A value is trying to be set on a copy of a slice from a DataFrame\n",
      "\n",
      "See the caveats in the documentation: https://pandas.pydata.org/pandas-docs/stable/user_guide/indexing.html#returning-a-view-versus-a-copy\n",
      "  This is separate from the ipykernel package so we can avoid doing imports until\n"
     ]
    }
   ],
   "source": [
    "lgd[\"state_dist\"] = \"\"\n",
    "for i in range(0, 734):\n",
    "    lgd[\"state_dist\"][i] = lgd[\"state\"][i].rstrip() + lgd[\"district\"][i]"
   ]
  },
  {
   "cell_type": "code",
   "execution_count": 7,
   "metadata": {},
   "outputs": [
    {
     "data": {
      "text/html": [
       "<div>\n",
       "<style scoped>\n",
       "    .dataframe tbody tr th:only-of-type {\n",
       "        vertical-align: middle;\n",
       "    }\n",
       "\n",
       "    .dataframe tbody tr th {\n",
       "        vertical-align: top;\n",
       "    }\n",
       "\n",
       "    .dataframe thead th {\n",
       "        text-align: right;\n",
       "    }\n",
       "</style>\n",
       "<table border=\"1\" class=\"dataframe\">\n",
       "  <thead>\n",
       "    <tr style=\"text-align: right;\">\n",
       "      <th></th>\n",
       "      <th>St_LGD_code</th>\n",
       "      <th>state</th>\n",
       "      <th>Dt_LGD_code</th>\n",
       "      <th>district</th>\n",
       "      <th>state_dist</th>\n",
       "    </tr>\n",
       "  </thead>\n",
       "  <tbody>\n",
       "    <tr>\n",
       "      <th>0</th>\n",
       "      <td>35</td>\n",
       "      <td>ANDAMAN AND NICOBAR ISLANDS</td>\n",
       "      <td>603</td>\n",
       "      <td>NICOBARS</td>\n",
       "      <td>ANDAMAN AND NICOBAR ISLANDSNICOBARS</td>\n",
       "    </tr>\n",
       "    <tr>\n",
       "      <th>1</th>\n",
       "      <td>35</td>\n",
       "      <td>ANDAMAN AND NICOBAR ISLANDS</td>\n",
       "      <td>632</td>\n",
       "      <td>NORTH AND MIDDLE ANDAMAN</td>\n",
       "      <td>ANDAMAN AND NICOBAR ISLANDSNORTH AND MIDDLE AN...</td>\n",
       "    </tr>\n",
       "    <tr>\n",
       "      <th>2</th>\n",
       "      <td>35</td>\n",
       "      <td>ANDAMAN AND NICOBAR ISLANDS</td>\n",
       "      <td>602</td>\n",
       "      <td>SOUTH ANDAMANS</td>\n",
       "      <td>ANDAMAN AND NICOBAR ISLANDSSOUTH ANDAMANS</td>\n",
       "    </tr>\n",
       "    <tr>\n",
       "      <th>3</th>\n",
       "      <td>28</td>\n",
       "      <td>ANDHRA PRADESH                                ...</td>\n",
       "      <td>502</td>\n",
       "      <td>ANANTAPUR</td>\n",
       "      <td>ANDHRA PRADESHANANTAPUR</td>\n",
       "    </tr>\n",
       "    <tr>\n",
       "      <th>4</th>\n",
       "      <td>28</td>\n",
       "      <td>ANDHRA PRADESH                                ...</td>\n",
       "      <td>503</td>\n",
       "      <td>CHITTOOR</td>\n",
       "      <td>ANDHRA PRADESHCHITTOOR</td>\n",
       "    </tr>\n",
       "    <tr>\n",
       "      <th>...</th>\n",
       "      <td>...</td>\n",
       "      <td>...</td>\n",
       "      <td>...</td>\n",
       "      <td>...</td>\n",
       "      <td>...</td>\n",
       "    </tr>\n",
       "    <tr>\n",
       "      <th>729</th>\n",
       "      <td>19</td>\n",
       "      <td>WEST BENGAL                                   ...</td>\n",
       "      <td>319</td>\n",
       "      <td>MURSHIDABAD</td>\n",
       "      <td>WEST BENGALMURSHIDABAD</td>\n",
       "    </tr>\n",
       "    <tr>\n",
       "      <th>730</th>\n",
       "      <td>19</td>\n",
       "      <td>WEST BENGAL                                   ...</td>\n",
       "      <td>320</td>\n",
       "      <td>NADIA</td>\n",
       "      <td>WEST BENGALNADIA</td>\n",
       "    </tr>\n",
       "    <tr>\n",
       "      <th>731</th>\n",
       "      <td>19</td>\n",
       "      <td>WEST BENGAL                                   ...</td>\n",
       "      <td>704</td>\n",
       "      <td>PASCHIM BARDHAMAN</td>\n",
       "      <td>WEST BENGALPASCHIM BARDHAMAN</td>\n",
       "    </tr>\n",
       "    <tr>\n",
       "      <th>732</th>\n",
       "      <td>19</td>\n",
       "      <td>WEST BENGAL                                   ...</td>\n",
       "      <td>306</td>\n",
       "      <td>PURBA BARDHAMAN</td>\n",
       "      <td>WEST BENGALPURBA BARDHAMAN</td>\n",
       "    </tr>\n",
       "    <tr>\n",
       "      <th>733</th>\n",
       "      <td>19</td>\n",
       "      <td>WEST BENGAL                                   ...</td>\n",
       "      <td>321</td>\n",
       "      <td>PURULIA</td>\n",
       "      <td>WEST BENGALPURULIA</td>\n",
       "    </tr>\n",
       "  </tbody>\n",
       "</table>\n",
       "<p>734 rows × 5 columns</p>\n",
       "</div>"
      ],
      "text/plain": [
       "     St_LGD_code                                              state  \\\n",
       "0             35     ANDAMAN AND NICOBAR ISLANDS                      \n",
       "1             35     ANDAMAN AND NICOBAR ISLANDS                      \n",
       "2             35     ANDAMAN AND NICOBAR ISLANDS                      \n",
       "3             28  ANDHRA PRADESH                                ...   \n",
       "4             28  ANDHRA PRADESH                                ...   \n",
       "..           ...                                                ...   \n",
       "729           19  WEST BENGAL                                   ...   \n",
       "730           19  WEST BENGAL                                   ...   \n",
       "731           19  WEST BENGAL                                   ...   \n",
       "732           19  WEST BENGAL                                   ...   \n",
       "733           19  WEST BENGAL                                   ...   \n",
       "\n",
       "     Dt_LGD_code                  district  \\\n",
       "0            603                  NICOBARS   \n",
       "1            632  NORTH AND MIDDLE ANDAMAN   \n",
       "2            602            SOUTH ANDAMANS   \n",
       "3            502                 ANANTAPUR   \n",
       "4            503                  CHITTOOR   \n",
       "..           ...                       ...   \n",
       "729          319               MURSHIDABAD   \n",
       "730          320                     NADIA   \n",
       "731          704         PASCHIM BARDHAMAN   \n",
       "732          306           PURBA BARDHAMAN   \n",
       "733          321                   PURULIA   \n",
       "\n",
       "                                            state_dist  \n",
       "0                  ANDAMAN AND NICOBAR ISLANDSNICOBARS  \n",
       "1    ANDAMAN AND NICOBAR ISLANDSNORTH AND MIDDLE AN...  \n",
       "2            ANDAMAN AND NICOBAR ISLANDSSOUTH ANDAMANS  \n",
       "3                              ANDHRA PRADESHANANTAPUR  \n",
       "4                               ANDHRA PRADESHCHITTOOR  \n",
       "..                                                 ...  \n",
       "729                             WEST BENGALMURSHIDABAD  \n",
       "730                                   WEST BENGALNADIA  \n",
       "731                       WEST BENGALPASCHIM BARDHAMAN  \n",
       "732                         WEST BENGALPURBA BARDHAMAN  \n",
       "733                                 WEST BENGALPURULIA  \n",
       "\n",
       "[734 rows x 5 columns]"
      ]
     },
     "execution_count": 7,
     "metadata": {},
     "output_type": "execute_result"
    }
   ],
   "source": [
    "lgd"
   ]
  },
  {
   "cell_type": "code",
   "execution_count": 8,
   "metadata": {},
   "outputs": [],
   "source": [
    "pig = pd.read_csv(Path.joinpath(processed_data_path, \"pig.csv\"))"
   ]
  },
  {
   "cell_type": "code",
   "execution_count": 9,
   "metadata": {},
   "outputs": [
    {
     "data": {
      "text/plain": [
       "(1252, 6)"
      ]
     },
     "execution_count": 9,
     "metadata": {},
     "output_type": "execute_result"
    }
   ],
   "source": [
    "pig.shape"
   ]
  },
  {
   "cell_type": "code",
   "execution_count": 10,
   "metadata": {},
   "outputs": [
    {
     "name": "stderr",
     "output_type": "stream",
     "text": [
      "C:\\Users\\gohal\\Desktop\\Coding\\bipp-datasets\\.venv\\lib\\site-packages\\ipykernel_launcher.py:5: SettingWithCopyWarning: \n",
      "A value is trying to be set on a copy of a slice from a DataFrame\n",
      "\n",
      "See the caveats in the documentation: https://pandas.pydata.org/pandas-docs/stable/user_guide/indexing.html#returning-a-view-versus-a-copy\n",
      "  \"\"\"\n",
      "C:\\Users\\gohal\\Desktop\\Coding\\bipp-datasets\\.venv\\lib\\site-packages\\ipykernel_launcher.py:3: SettingWithCopyWarning: \n",
      "A value is trying to be set on a copy of a slice from a DataFrame\n",
      "\n",
      "See the caveats in the documentation: https://pandas.pydata.org/pandas-docs/stable/user_guide/indexing.html#returning-a-view-versus-a-copy\n",
      "  This is separate from the ipykernel package so we can avoid doing imports until\n",
      "C:\\Users\\gohal\\Desktop\\Coding\\bipp-datasets\\.venv\\lib\\site-packages\\ipykernel_launcher.py:7: SettingWithCopyWarning: \n",
      "A value is trying to be set on a copy of a slice from a DataFrame\n",
      "\n",
      "See the caveats in the documentation: https://pandas.pydata.org/pandas-docs/stable/user_guide/indexing.html#returning-a-view-versus-a-copy\n",
      "  import sys\n",
      "C:\\Users\\gohal\\Desktop\\Coding\\bipp-datasets\\.venv\\lib\\site-packages\\ipykernel_launcher.py:19: SettingWithCopyWarning: \n",
      "A value is trying to be set on a copy of a slice from a DataFrame\n",
      "\n",
      "See the caveats in the documentation: https://pandas.pydata.org/pandas-docs/stable/user_guide/indexing.html#returning-a-view-versus-a-copy\n",
      "C:\\Users\\gohal\\Desktop\\Coding\\bipp-datasets\\.venv\\lib\\site-packages\\ipykernel_launcher.py:23: SettingWithCopyWarning: \n",
      "A value is trying to be set on a copy of a slice from a DataFrame\n",
      "\n",
      "See the caveats in the documentation: https://pandas.pydata.org/pandas-docs/stable/user_guide/indexing.html#returning-a-view-versus-a-copy\n",
      "C:\\Users\\gohal\\Desktop\\Coding\\bipp-datasets\\.venv\\lib\\site-packages\\ipykernel_launcher.py:25: SettingWithCopyWarning: \n",
      "A value is trying to be set on a copy of a slice from a DataFrame\n",
      "\n",
      "See the caveats in the documentation: https://pandas.pydata.org/pandas-docs/stable/user_guide/indexing.html#returning-a-view-versus-a-copy\n",
      "C:\\Users\\gohal\\Desktop\\Coding\\bipp-datasets\\.venv\\lib\\site-packages\\ipykernel_launcher.py:37: SettingWithCopyWarning: \n",
      "A value is trying to be set on a copy of a slice from a DataFrame\n",
      "\n",
      "See the caveats in the documentation: https://pandas.pydata.org/pandas-docs/stable/user_guide/indexing.html#returning-a-view-versus-a-copy\n",
      "C:\\Users\\gohal\\Desktop\\Coding\\bipp-datasets\\.venv\\lib\\site-packages\\ipykernel_launcher.py:15: SettingWithCopyWarning: \n",
      "A value is trying to be set on a copy of a slice from a DataFrame\n",
      "\n",
      "See the caveats in the documentation: https://pandas.pydata.org/pandas-docs/stable/user_guide/indexing.html#returning-a-view-versus-a-copy\n",
      "  from ipykernel import kernelapp as app\n",
      "C:\\Users\\gohal\\Desktop\\Coding\\bipp-datasets\\.venv\\lib\\site-packages\\ipykernel_launcher.py:17: SettingWithCopyWarning: \n",
      "A value is trying to be set on a copy of a slice from a DataFrame\n",
      "\n",
      "See the caveats in the documentation: https://pandas.pydata.org/pandas-docs/stable/user_guide/indexing.html#returning-a-view-versus-a-copy\n",
      "C:\\Users\\gohal\\Desktop\\Coding\\bipp-datasets\\.venv\\lib\\site-packages\\ipykernel_launcher.py:29: SettingWithCopyWarning: \n",
      "A value is trying to be set on a copy of a slice from a DataFrame\n",
      "\n",
      "See the caveats in the documentation: https://pandas.pydata.org/pandas-docs/stable/user_guide/indexing.html#returning-a-view-versus-a-copy\n",
      "C:\\Users\\gohal\\Desktop\\Coding\\bipp-datasets\\.venv\\lib\\site-packages\\ipykernel_launcher.py:27: SettingWithCopyWarning: \n",
      "A value is trying to be set on a copy of a slice from a DataFrame\n",
      "\n",
      "See the caveats in the documentation: https://pandas.pydata.org/pandas-docs/stable/user_guide/indexing.html#returning-a-view-versus-a-copy\n",
      "C:\\Users\\gohal\\Desktop\\Coding\\bipp-datasets\\.venv\\lib\\site-packages\\ipykernel_launcher.py:31: SettingWithCopyWarning: \n",
      "A value is trying to be set on a copy of a slice from a DataFrame\n",
      "\n",
      "See the caveats in the documentation: https://pandas.pydata.org/pandas-docs/stable/user_guide/indexing.html#returning-a-view-versus-a-copy\n",
      "C:\\Users\\gohal\\Desktop\\Coding\\bipp-datasets\\.venv\\lib\\site-packages\\ipykernel_launcher.py:33: SettingWithCopyWarning: \n",
      "A value is trying to be set on a copy of a slice from a DataFrame\n",
      "\n",
      "See the caveats in the documentation: https://pandas.pydata.org/pandas-docs/stable/user_guide/indexing.html#returning-a-view-versus-a-copy\n",
      "C:\\Users\\gohal\\Desktop\\Coding\\bipp-datasets\\.venv\\lib\\site-packages\\ipykernel_launcher.py:35: SettingWithCopyWarning: \n",
      "A value is trying to be set on a copy of a slice from a DataFrame\n",
      "\n",
      "See the caveats in the documentation: https://pandas.pydata.org/pandas-docs/stable/user_guide/indexing.html#returning-a-view-versus-a-copy\n"
     ]
    }
   ],
   "source": [
    "for i in range(0, 1252):\n",
    "    if (pig['district_name'][i].upper() == 'SORAIDEU'):\n",
    "        pig['district_name'][i] = 'CHARAIDEO'\n",
    "    if (pig['district_name'][i].upper() == 'SIBSAGAR'):\n",
    "        pig['district_name'][i] = 'SIVASAGAR'\n",
    "    if (pig['district_name'][i].upper() == 'MEWAT'):\n",
    "        pig['district_name'][i] = 'NUH'\n",
    "    if (pig['district_name'][i].upper() == 'KARGIL'):\n",
    "        pig['state_name'][i] = 'LADAKH'\n",
    "    if (pig['district_name'][i].upper() == 'LEH LADAKH'):\n",
    "        pig['state_name'][i] = 'LADAKH'\n",
    "    if (pig['district_name'][i].upper() == 'DADRA AND NAGAR HAVELI'):\n",
    "        pig['state_name'][i] = 'THE DADRA AND NAGAR HAVELI AND DAMAN AND DIU'\n",
    "    if (pig['district_name'][i].upper() == 'GULBARGA'):\n",
    "        pig['district_name'][i] = 'KALABURAGI'\n",
    "    if (pig['district_name'][i].upper() == 'MYSORE'):\n",
    "        pig['district_name'][i] = 'MYSURU'\n",
    "    if (pig['district_name'][i].upper() == 'BANGALORE RURAL'):\n",
    "        pig['district_name'][i] = 'BENGALURU RURAL'\n",
    "    if (pig['district_name'][i].upper() == 'SORAIDEU'):\n",
    "        pig['district_name'][i] = 'CHARAIDEO'\n",
    "    if (pig['district_name'][i].upper() == 'BELGAUM'):\n",
    "        pig['district_name'][i] = 'BELAGAVI'\n",
    "    if (pig['district_name'][i].upper() == 'BELLARY'):\n",
    "        pig['district_name'][i] = 'BALLARI'\n",
    "    if (pig['district_name'][i].upper() in 'NAWANSHAHR (SBS NAGAR)'):\n",
    "        pig['district_name'][i] = 'SHAHID BHAGAT SINGH NAGAR'\n",
    "    if (pig['district_name'][i].upper() == 'MUKTSAR'):\n",
    "        pig['district_name'][i] = 'SRI MUKTSAR SAHIB'\n",
    "    if (pig['district_name'][i].upper() == 'ALLAHABAD'):\n",
    "        pig['district_name'][i] = 'PRAYAGRAJ'\n",
    "    if (pig['district_name'][i].upper() == 'SANT RAVIDAS NAGAR'):\n",
    "        pig['district_name'][i] = 'BHADOHI'\n",
    "    if (pig['district_name'][i].upper() == 'BARDHAMAN'):\n",
    "        pig['district_name'][i] = 'PURBA BARDHAMAN'\n",
    "    if (pig['district_name'][i].upper() == 'BIJAPUR') and (pig['state_name'][i].upper() == 'KARNATAKA'):\n",
    "        pig['district_name'][i] = 'VIJAYAPURA' "
   ]
  },
  {
   "cell_type": "code",
   "execution_count": 11,
   "metadata": {},
   "outputs": [],
   "source": [
    "pig[\"state_name\"] = pig[\"state_name\"].str.upper()\n",
    "pig[\"district_name\"] = pig[\"district_name\"].str.upper()"
   ]
  },
  {
   "cell_type": "code",
   "execution_count": 12,
   "metadata": {},
   "outputs": [],
   "source": [
    "pig['state_dist']  = pig['state_name'] + pig['district_name']"
   ]
  },
  {
   "cell_type": "code",
   "execution_count": 13,
   "metadata": {},
   "outputs": [],
   "source": [
    "g1 = pd.merge(\n",
    "            pig,\n",
    "            lgd,\n",
    "            how=\"outer\",\n",
    "            left_on=\"state_dist\",\n",
    "            right_on=\"state_dist\",\n",
    "            validate=\"m:1\",\n",
    "            indicator=True,\n",
    "            suffixes=[\"_DATA\", \"_LGD\"],\n",
    "        )"
   ]
  },
  {
   "cell_type": "code",
   "execution_count": 14,
   "metadata": {},
   "outputs": [
    {
     "data": {
      "text/plain": [
       "both          1173\n",
       "right_only     115\n",
       "left_only       79\n",
       "Name: _merge, dtype: int64"
      ]
     },
     "execution_count": 14,
     "metadata": {},
     "output_type": "execute_result"
    }
   ],
   "source": [
    "g1['_merge'].value_counts()"
   ]
  },
  {
   "cell_type": "code",
   "execution_count": 15,
   "metadata": {},
   "outputs": [],
   "source": [
    "not_lgd_mapped = g1[(g1[\"_merge\"] == \"left_only\")][\n",
    "            [\n",
    "                \"state_name\",\n",
    "                \"district_name\",\n",
    "                \"state_dist\",\n",
    "            ]\n",
    "        ]"
   ]
  },
  {
   "cell_type": "code",
   "execution_count": 16,
   "metadata": {},
   "outputs": [],
   "source": [
    "not_lgd_mapped = not_lgd_mapped.drop_duplicates(subset=\"state_dist\")"
   ]
  },
  {
   "cell_type": "code",
   "execution_count": 17,
   "metadata": {},
   "outputs": [],
   "source": [
    "result = [\n",
    "            process.extractOne(i, lgd[\"state_dist\"])\n",
    "            for i in not_lgd_mapped[\"state_dist\"]\n",
    "        ]\n",
    "result = pd.DataFrame(result, columns=[\"match\", \"score\", \"id\"])\n",
    "result.drop(\"id\", axis=1, inplace=True)"
   ]
  },
  {
   "cell_type": "code",
   "execution_count": 18,
   "metadata": {},
   "outputs": [],
   "source": [
    "not_lgd_proxy_df = (\n",
    "                pd.DataFrame(not_lgd_mapped[\"state_dist\"], index=None)\n",
    "                .reset_index()\n",
    "                .drop(\"index\", axis=1)\n",
    "        )"
   ]
  },
  {
   "cell_type": "code",
   "execution_count": 19,
   "metadata": {},
   "outputs": [],
   "source": [
    "mapper_df = pd.concat(\n",
    "            [not_lgd_proxy_df, result],\n",
    "            axis=1,\n",
    "            ignore_index=True,\n",
    "            names=[\"original\", \"match\", \"score\"],\n",
    "        )"
   ]
  },
  {
   "cell_type": "code",
   "execution_count": 20,
   "metadata": {},
   "outputs": [],
   "source": [
    "mapper_df = mapper_df[mapper_df[2] >= 90]"
   ]
  },
  {
   "cell_type": "code",
   "execution_count": 21,
   "metadata": {},
   "outputs": [],
   "source": [
    "mapper_dict = dict(zip(mapper_df[0], mapper_df[1]))\n",
    "pig[\"state_dist\"] = pig[\"state_dist\"].replace(mapper_dict)"
   ]
  },
  {
   "cell_type": "code",
   "execution_count": 22,
   "metadata": {},
   "outputs": [],
   "source": [
    "g1 = pd.merge(\n",
    "            pig,\n",
    "            lgd,\n",
    "            how=\"outer\",\n",
    "            left_on=\"state_dist\",\n",
    "            right_on=\"state_dist\",\n",
    "            validate=\"m:1\",\n",
    "            indicator=True,\n",
    "            suffixes=[\"_DATA\", \"_LGD\"],\n",
    "        )\n"
   ]
  },
  {
   "cell_type": "code",
   "execution_count": 23,
   "metadata": {},
   "outputs": [
    {
     "data": {
      "text/plain": [
       "both          1252\n",
       "right_only      75\n",
       "left_only        0\n",
       "Name: _merge, dtype: int64"
      ]
     },
     "execution_count": 23,
     "metadata": {},
     "output_type": "execute_result"
    }
   ],
   "source": [
    "g1[\"_merge\"].value_counts()"
   ]
  },
  {
   "cell_type": "code",
   "execution_count": 24,
   "metadata": {},
   "outputs": [],
   "source": [
    "not_lgd_mapped = g1[(g1[\"_merge\"] == \"left_only\")][\n",
    "            [\n",
    "                \"state_name\",\n",
    "                \"district_name\",\n",
    "                \"state_dist\",\n",
    "            ]\n",
    "        ]\n",
    "not_lgd_mapped = not_lgd_mapped.drop_duplicates(subset=\"state_dist\")"
   ]
  },
  {
   "cell_type": "code",
   "execution_count": 25,
   "metadata": {},
   "outputs": [
    {
     "data": {
      "text/plain": [
       "0"
      ]
     },
     "execution_count": 25,
     "metadata": {},
     "output_type": "execute_result"
    }
   ],
   "source": [
    "len(not_lgd_mapped)"
   ]
  },
  {
   "cell_type": "code",
   "execution_count": 26,
   "metadata": {},
   "outputs": [],
   "source": [
    "result = [\n",
    "            process.extractOne(i, lgd[\"state_dist\"])\n",
    "            for i in not_lgd_mapped[\"state_dist\"]\n",
    "        ]\n",
    "result = pd.DataFrame(result, columns=[\"match\", \"score\", \"id\"])\n",
    "result.drop(\"id\", axis=1, inplace=True)"
   ]
  },
  {
   "cell_type": "code",
   "execution_count": 27,
   "metadata": {},
   "outputs": [],
   "source": [
    "not_lgd_proxy_df = (\n",
    "                pd.DataFrame(not_lgd_mapped[\"state_dist\"], index=None)\n",
    "                .reset_index()\n",
    "                .drop(\"index\", axis=1)\n",
    "        )"
   ]
  },
  {
   "cell_type": "code",
   "execution_count": 28,
   "metadata": {},
   "outputs": [],
   "source": [
    "mapper_df = pd.concat(\n",
    "            [not_lgd_proxy_df, result],\n",
    "            axis=1,\n",
    "            ignore_index=True,\n",
    "            names=[\"original\", \"match\", \"score\"],\n",
    "        )"
   ]
  },
  {
   "cell_type": "code",
   "execution_count": 29,
   "metadata": {},
   "outputs": [],
   "source": [
    "mapper_df = mapper_df[mapper_df[2] >= 90]"
   ]
  },
  {
   "cell_type": "code",
   "execution_count": 30,
   "metadata": {},
   "outputs": [],
   "source": [
    "mapper_dict = dict(zip(mapper_df[0], mapper_df[1]))\n",
    "pig[\"state_dist\"] = pig[\"state_dist\"].replace(mapper_dict)"
   ]
  },
  {
   "cell_type": "code",
   "execution_count": 31,
   "metadata": {},
   "outputs": [],
   "source": [
    "g1 = pd.merge(\n",
    "            pig,\n",
    "            lgd,\n",
    "            how=\"outer\",\n",
    "            left_on=\"state_dist\",\n",
    "            right_on=\"state_dist\",\n",
    "            validate=\"m:1\",\n",
    "            indicator=True,\n",
    "            suffixes=[\"_DATA\", \"_LGD\"],\n",
    "        )\n"
   ]
  },
  {
   "cell_type": "code",
   "execution_count": 32,
   "metadata": {},
   "outputs": [
    {
     "data": {
      "text/plain": [
       "both          1252\n",
       "right_only      75\n",
       "left_only        0\n",
       "Name: _merge, dtype: int64"
      ]
     },
     "execution_count": 32,
     "metadata": {},
     "output_type": "execute_result"
    }
   ],
   "source": [
    "g1[\"_merge\"].value_counts()"
   ]
  },
  {
   "cell_type": "code",
   "execution_count": 33,
   "metadata": {},
   "outputs": [],
   "source": [
    "not_lgd_mapped = g1[(g1[\"_merge\"] == \"left_only\")][\n",
    "            [\n",
    "                \"state_name\",\n",
    "                \"district_name\",\n",
    "                \"state_dist\",\n",
    "            ]\n",
    "        ]\n",
    "not_lgd_mapped = not_lgd_mapped.drop_duplicates(subset=\"state_dist\")"
   ]
  },
  {
   "cell_type": "code",
   "execution_count": 34,
   "metadata": {},
   "outputs": [
    {
     "data": {
      "text/plain": [
       "0"
      ]
     },
     "execution_count": 34,
     "metadata": {},
     "output_type": "execute_result"
    }
   ],
   "source": [
    "len(not_lgd_mapped)"
   ]
  },
  {
   "cell_type": "code",
   "execution_count": 35,
   "metadata": {},
   "outputs": [],
   "source": [
    "not_lgd_mapped.to_csv(\"pig_unmapped.csv\")"
   ]
  },
  {
   "cell_type": "code",
   "execution_count": 37,
   "metadata": {},
   "outputs": [],
   "source": [
    "df = g1[g1['_merge']=='both']"
   ]
  },
  {
   "cell_type": "code",
   "execution_count": 38,
   "metadata": {},
   "outputs": [],
   "source": [
    "df = df.drop(['_merge','state', 'district'], axis = 1)"
   ]
  },
  {
   "cell_type": "code",
   "execution_count": 39,
   "metadata": {},
   "outputs": [
    {
     "data": {
      "text/plain": [
       "['state_name',\n",
       " 'district_name',\n",
       " 'breed_type_name',\n",
       " 'under_six_months',\n",
       " 'six_months_and_above',\n",
       " 'total',\n",
       " 'state_dist',\n",
       " 'St_LGD_code',\n",
       " 'Dt_LGD_code']"
      ]
     },
     "execution_count": 39,
     "metadata": {},
     "output_type": "execute_result"
    }
   ],
   "source": [
    "df.columns.to_list()"
   ]
  },
  {
   "cell_type": "code",
   "execution_count": 40,
   "metadata": {},
   "outputs": [],
   "source": [
    "l = ['state_name',\n",
    " 'district_name',\n",
    " 'state_dist',\n",
    " 'St_LGD_code',\n",
    " 'Dt_LGD_code',\n",
    " 'breed_type_name',\n",
    " 'under_six_months',\n",
    " 'six_months_and_above',\n",
    " 'total']"
   ]
  },
  {
   "cell_type": "code",
   "execution_count": 41,
   "metadata": {},
   "outputs": [],
   "source": [
    "df = df[l]"
   ]
  },
  {
   "cell_type": "code",
   "execution_count": 42,
   "metadata": {},
   "outputs": [],
   "source": [
    "df.to_csv(Path.joinpath(processed_data_path, \"pig_lgd.csv\"), index=False)"
   ]
  },
  {
   "cell_type": "code",
   "execution_count": 44,
   "metadata": {},
   "outputs": [
    {
     "data": {
      "text/plain": [
       "(1252, 9)"
      ]
     },
     "execution_count": 44,
     "metadata": {},
     "output_type": "execute_result"
    }
   ],
   "source": [
    "df.shape"
   ]
  },
  {
   "cell_type": "code",
   "execution_count": 45,
   "metadata": {},
   "outputs": [
    {
     "data": {
      "text/plain": [
       "(1252, 7)"
      ]
     },
     "execution_count": 45,
     "metadata": {},
     "output_type": "execute_result"
    }
   ],
   "source": [
    "pig.shape"
   ]
  },
  {
   "cell_type": "code",
   "execution_count": 3,
   "metadata": {},
   "outputs": [],
   "source": [
    "pig = pd.read_csv(Path.joinpath(processed_data_path, \"pig_lgd.csv\"))"
   ]
  },
  {
   "cell_type": "code",
   "execution_count": 4,
   "metadata": {},
   "outputs": [],
   "source": [
    "pig.drop(['state_dist'], axis = 1, inplace = True)\n",
    "pig.rename(columns={'St_LGD_code':'state_lgd_code', 'Dt_LGD_code':'district_lgd_code'}, inplace = True)"
   ]
  },
  {
   "cell_type": "code",
   "execution_count": 5,
   "metadata": {},
   "outputs": [],
   "source": [
    "pig.to_csv(Path.joinpath(processed_data_path, \"pig_lgd.csv\"), index=False)"
   ]
  },
  {
   "cell_type": "code",
   "execution_count": null,
   "metadata": {},
   "outputs": [],
   "source": []
  }
 ],
 "metadata": {
  "interpreter": {
   "hash": "a09e2b970767d0be2f332117f45685007d2c8ec89818e216477a3461de0aaaa8"
  },
  "kernelspec": {
   "display_name": "Python 3.7.6 ('.venv': poetry)",
   "language": "python",
   "name": "python3"
  },
  "language_info": {
   "codemirror_mode": {
    "name": "ipython",
    "version": 3
   },
   "file_extension": ".py",
   "mimetype": "text/x-python",
   "name": "python",
   "nbconvert_exporter": "python",
   "pygments_lexer": "ipython3",
   "version": "3.7.6"
  },
  "orig_nbformat": 4
 },
 "nbformat": 4,
 "nbformat_minor": 2
}
